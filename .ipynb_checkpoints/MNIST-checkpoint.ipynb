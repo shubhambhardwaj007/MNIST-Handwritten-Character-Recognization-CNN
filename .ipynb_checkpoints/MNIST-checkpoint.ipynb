{
 "cells": [
  {
   "cell_type": "code",
   "execution_count": 1,
   "metadata": {
    "id": "-6RQFv_R8TZv"
   },
   "outputs": [],
   "source": [
    "from keras.datasets import  mnist"
   ]
  },
  {
   "cell_type": "code",
   "execution_count": 2,
   "metadata": {
    "id": "bei54Pr68riA"
   },
   "outputs": [],
   "source": [
    "dataset = mnist.load_data(\"mymnist.db\")"
   ]
  },
  {
   "cell_type": "code",
   "execution_count": 3,
   "metadata": {
    "colab": {
     "base_uri": "https://localhost:8080/"
    },
    "id": "9bbxQF2G81df",
    "outputId": "235dc4ef-c921-4abe-f2d1-c1f57b8c420d"
   },
   "outputs": [
    {
     "data": {
      "text/plain": [
       "tuple"
      ]
     },
     "execution_count": 3,
     "metadata": {
      "tags": []
     },
     "output_type": "execute_result"
    }
   ],
   "source": [
    "type(dataset)"
   ]
  },
  {
   "cell_type": "code",
   "execution_count": 4,
   "metadata": {
    "colab": {
     "base_uri": "https://localhost:8080/"
    },
    "id": "DhX_wFJ29A3c",
    "outputId": "f705f6f6-22ad-4f5e-bfe6-66a4e1347031"
   },
   "outputs": [
    {
     "data": {
      "text/plain": [
       "2"
      ]
     },
     "execution_count": 4,
     "metadata": {
      "tags": []
     },
     "output_type": "execute_result"
    }
   ],
   "source": [
    "len(dataset)"
   ]
  },
  {
   "cell_type": "code",
   "execution_count": 5,
   "metadata": {
    "id": "lt6d-p_X9KTO"
   },
   "outputs": [],
   "source": [
    "train,test = dataset"
   ]
  },
  {
   "cell_type": "code",
   "execution_count": 6,
   "metadata": {
    "colab": {
     "base_uri": "https://localhost:8080/"
    },
    "id": "QkAkEcm09Mwc",
    "outputId": "b0945fa7-3c86-4ace-e8d2-85cd98059164"
   },
   "outputs": [
    {
     "data": {
      "text/plain": [
       "(array([[[0, 0, 0, ..., 0, 0, 0],\n",
       "         [0, 0, 0, ..., 0, 0, 0],\n",
       "         [0, 0, 0, ..., 0, 0, 0],\n",
       "         ...,\n",
       "         [0, 0, 0, ..., 0, 0, 0],\n",
       "         [0, 0, 0, ..., 0, 0, 0],\n",
       "         [0, 0, 0, ..., 0, 0, 0]],\n",
       " \n",
       "        [[0, 0, 0, ..., 0, 0, 0],\n",
       "         [0, 0, 0, ..., 0, 0, 0],\n",
       "         [0, 0, 0, ..., 0, 0, 0],\n",
       "         ...,\n",
       "         [0, 0, 0, ..., 0, 0, 0],\n",
       "         [0, 0, 0, ..., 0, 0, 0],\n",
       "         [0, 0, 0, ..., 0, 0, 0]],\n",
       " \n",
       "        [[0, 0, 0, ..., 0, 0, 0],\n",
       "         [0, 0, 0, ..., 0, 0, 0],\n",
       "         [0, 0, 0, ..., 0, 0, 0],\n",
       "         ...,\n",
       "         [0, 0, 0, ..., 0, 0, 0],\n",
       "         [0, 0, 0, ..., 0, 0, 0],\n",
       "         [0, 0, 0, ..., 0, 0, 0]],\n",
       " \n",
       "        ...,\n",
       " \n",
       "        [[0, 0, 0, ..., 0, 0, 0],\n",
       "         [0, 0, 0, ..., 0, 0, 0],\n",
       "         [0, 0, 0, ..., 0, 0, 0],\n",
       "         ...,\n",
       "         [0, 0, 0, ..., 0, 0, 0],\n",
       "         [0, 0, 0, ..., 0, 0, 0],\n",
       "         [0, 0, 0, ..., 0, 0, 0]],\n",
       " \n",
       "        [[0, 0, 0, ..., 0, 0, 0],\n",
       "         [0, 0, 0, ..., 0, 0, 0],\n",
       "         [0, 0, 0, ..., 0, 0, 0],\n",
       "         ...,\n",
       "         [0, 0, 0, ..., 0, 0, 0],\n",
       "         [0, 0, 0, ..., 0, 0, 0],\n",
       "         [0, 0, 0, ..., 0, 0, 0]],\n",
       " \n",
       "        [[0, 0, 0, ..., 0, 0, 0],\n",
       "         [0, 0, 0, ..., 0, 0, 0],\n",
       "         [0, 0, 0, ..., 0, 0, 0],\n",
       "         ...,\n",
       "         [0, 0, 0, ..., 0, 0, 0],\n",
       "         [0, 0, 0, ..., 0, 0, 0],\n",
       "         [0, 0, 0, ..., 0, 0, 0]]], dtype=uint8),\n",
       " array([5, 0, 4, ..., 5, 6, 8], dtype=uint8))"
      ]
     },
     "execution_count": 6,
     "metadata": {
      "tags": []
     },
     "output_type": "execute_result"
    }
   ],
   "source": [
    "train"
   ]
  },
  {
   "cell_type": "code",
   "execution_count": 7,
   "metadata": {
    "id": "y4lrEfPR9XzC"
   },
   "outputs": [],
   "source": [
    "x_train , y_train = train"
   ]
  },
  {
   "cell_type": "code",
   "execution_count": 8,
   "metadata": {
    "colab": {
     "base_uri": "https://localhost:8080/"
    },
    "id": "TvSv5XkZ9p4Y",
    "outputId": "f82c29dc-7d11-41ae-86da-e24001057c96"
   },
   "outputs": [
    {
     "data": {
      "text/plain": [
       "(60000, 28, 28)"
      ]
     },
     "execution_count": 8,
     "metadata": {
      "tags": []
     },
     "output_type": "execute_result"
    }
   ],
   "source": [
    "x_train.shape"
   ]
  },
  {
   "cell_type": "code",
   "execution_count": 9,
   "metadata": {
    "id": "aBbjNlDN9rfk"
   },
   "outputs": [],
   "source": [
    "x_test , y_test = test"
   ]
  },
  {
   "cell_type": "code",
   "execution_count": 10,
   "metadata": {
    "colab": {
     "base_uri": "https://localhost:8080/"
    },
    "id": "67sPNrv6-Rk6",
    "outputId": "6c7a25a4-49db-4d59-c5c9-f2a69c6c7e98"
   },
   "outputs": [
    {
     "data": {
      "text/plain": [
       "(10000, 28, 28)"
      ]
     },
     "execution_count": 10,
     "metadata": {
      "tags": []
     },
     "output_type": "execute_result"
    }
   ],
   "source": [
    "x_test.shape"
   ]
  },
  {
   "cell_type": "code",
   "execution_count": 11,
   "metadata": {
    "colab": {
     "base_uri": "https://localhost:8080/"
    },
    "id": "KRYQjmc0-VIQ",
    "outputId": "8d485359-e8b2-4d0d-a4a4-a5dd3fe1775b"
   },
   "outputs": [
    {
     "data": {
      "text/plain": [
       "60000"
      ]
     },
     "execution_count": 11,
     "metadata": {
      "tags": []
     },
     "output_type": "execute_result"
    }
   ],
   "source": [
    "len(x_train)"
   ]
  },
  {
   "cell_type": "code",
   "execution_count": 13,
   "metadata": {
    "colab": {
     "base_uri": "https://localhost:8080/"
    },
    "id": "V802hUxB-urd",
    "outputId": "dd4be8c4-3a99-47a0-da61-659fe7cc55e4"
   },
   "outputs": [
    {
     "data": {
      "text/plain": [
       "10000"
      ]
     },
     "execution_count": 13,
     "metadata": {
      "tags": []
     },
     "output_type": "execute_result"
    }
   ],
   "source": [
    "len(x_test)"
   ]
  },
  {
   "cell_type": "code",
   "execution_count": 14,
   "metadata": {
    "id": "VjaMLEUA-2D7"
   },
   "outputs": [],
   "source": [
    "import matplotlib.pyplot as plt"
   ]
  },
  {
   "cell_type": "code",
   "execution_count": 15,
   "metadata": {
    "colab": {
     "base_uri": "https://localhost:8080/"
    },
    "id": "MXRbHY96_EoK",
    "outputId": "2e096856-c879-4d8d-835b-cda314593a09"
   },
   "outputs": [
    {
     "data": {
      "text/plain": [
       "numpy.ndarray"
      ]
     },
     "execution_count": 15,
     "metadata": {
      "tags": []
     },
     "output_type": "execute_result"
    }
   ],
   "source": [
    "type(x_train[0])"
   ]
  },
  {
   "cell_type": "code",
   "execution_count": 16,
   "metadata": {
    "id": "hVS_ErHX_Mk0"
   },
   "outputs": [],
   "source": [
    "img=x_train[0]"
   ]
  },
  {
   "cell_type": "code",
   "execution_count": 17,
   "metadata": {
    "colab": {
     "base_uri": "https://localhost:8080/",
     "height": 282
    },
    "id": "OjfL5kGJ_Rpt",
    "outputId": "6537b1ed-c7a5-41b5-a2eb-b7e321083666"
   },
   "outputs": [
    {
     "data": {
      "text/plain": [
       "<matplotlib.image.AxesImage at 0x7f07b2130550>"
      ]
     },
     "execution_count": 17,
     "metadata": {
      "tags": []
     },
     "output_type": "execute_result"
    },
    {
     "data": {
      "image/png": "[encoded data removed]",
      "text/plain": [
       "<Figure size 432x288 with 1 Axes>"
      ]
     },
     "metadata": {
      "needs_background": "light",
      "tags": []
     },
     "output_type": "display_data"
    }
   ],
   "source": [
    "plt.imshow(img,cmap=\"gray\")"
   ]
  },
  {
   "cell_type": "code",
   "execution_count": 18,
   "metadata": {
    "colab": {
     "base_uri": "https://localhost:8080/"
    },
    "id": "3TQaYdsw_aWk",
    "outputId": "124db038-6b85-4bb1-bfb7-22de16fd748f"
   },
   "outputs": [
    {
     "data": {
      "text/plain": [
       "5"
      ]
     },
     "execution_count": 18,
     "metadata": {
      "tags": []
     },
     "output_type": "execute_result"
    }
   ],
   "source": [
    "y_train[0]"
   ]
  },
  {
   "cell_type": "code",
   "execution_count": 19,
   "metadata": {
    "colab": {
     "base_uri": "https://localhost:8080/",
     "height": 282
    },
    "id": "yWHkvlnV_3kz",
    "outputId": "fbe50e2b-7fab-44b3-83aa-15e3e4cddb9b"
   },
   "outputs": [
    {
     "data": {
      "text/plain": [
       "<matplotlib.image.AxesImage at 0x7f07b1c8ec90>"
      ]
     },
     "execution_count": 19,
     "metadata": {
      "tags": []
     },
     "output_type": "execute_result"
    },
    {
     "data": {
      "image/png": "[encoded data removed]",
      "text/plain": [
       "<Figure size 432x288 with 1 Axes>"
      ]
     },
     "metadata": {
      "needs_background": "light",
      "tags": []
     },
     "output_type": "display_data"
    }
   ],
   "source": [
    "plt.imshow(x_train[300])"
   ]
  },
  {
   "cell_type": "code",
   "execution_count": 20,
   "metadata": {
    "colab": {
     "base_uri": "https://localhost:8080/"
    },
    "id": "gAEKQTDHANpO",
    "outputId": "49e1e667-6e07-4021-9c7b-5f8fef9f1b9f"
   },
   "outputs": [
    {
     "data": {
      "text/plain": [
       "3"
      ]
     },
     "execution_count": 20,
     "metadata": {
      "tags": []
     },
     "output_type": "execute_result"
    }
   ],
   "source": [
    "y_train[50]"
   ]
  },
  {
   "cell_type": "code",
   "execution_count": 21,
   "metadata": {
    "colab": {
     "base_uri": "https://localhost:8080/"
    },
    "id": "q7SLzhX7ASWn",
    "outputId": "e1dd558a-5b72-4b82-b7a5-bffaa366436a"
   },
   "outputs": [
    {
     "data": {
      "text/plain": [
       "(28, 28)"
      ]
     },
     "execution_count": 21,
     "metadata": {
      "tags": []
     },
     "output_type": "execute_result"
    }
   ],
   "source": [
    "img.shape"
   ]
  },
  {
   "cell_type": "code",
   "execution_count": 22,
   "metadata": {
    "colab": {
     "base_uri": "https://localhost:8080/"
    },
    "id": "2WWLDUw3A61c",
    "outputId": "6b195caf-93a0-469d-a2ea-655fe32fde33"
   },
   "outputs": [
    {
     "data": {
      "text/plain": [
       "numpy.ndarray"
      ]
     },
     "execution_count": 22,
     "metadata": {
      "tags": []
     },
     "output_type": "execute_result"
    }
   ],
   "source": [
    "type(img)"
   ]
  },
  {
   "cell_type": "code",
   "execution_count": 23,
   "metadata": {
    "id": "jAr0-K4aBAKK"
   },
   "outputs": [],
   "source": [
    "img_flatten = img.reshape(28*28)"
   ]
  },
  {
   "cell_type": "code",
   "execution_count": 24,
   "metadata": {
    "colab": {
     "base_uri": "https://localhost:8080/"
    },
    "id": "nNftOqq5BIbx",
    "outputId": "55133ba6-c401-46ae-a026-1c60d9fb178e"
   },
   "outputs": [
    {
     "data": {
      "text/plain": [
       "(784,)"
      ]
     },
     "execution_count": 24,
     "metadata": {
      "tags": []
     },
     "output_type": "execute_result"
    }
   ],
   "source": [
    "img_flatten.shape"
   ]
  },
  {
   "cell_type": "code",
   "execution_count": 25,
   "metadata": {
    "colab": {
     "base_uri": "https://localhost:8080/"
    },
    "id": "mW7QSSGtBSxA",
    "outputId": "cf9f74f5-71ed-41bc-b2b9-6a4046e58153"
   },
   "outputs": [
    {
     "data": {
      "text/plain": [
       "(60000, 28, 28)"
      ]
     },
     "execution_count": 25,
     "metadata": {
      "tags": []
     },
     "output_type": "execute_result"
    }
   ],
   "source": [
    "x_train.shape"
   ]
  },
  {
   "cell_type": "code",
   "execution_count": 26,
   "metadata": {
    "id": "-8d7gN9TCJAX"
   },
   "outputs": [],
   "source": [
    "x_train_flatten = x_train.reshape(-1,28*28)"
   ]
  },
  {
   "cell_type": "code",
   "execution_count": 27,
   "metadata": {
    "colab": {
     "base_uri": "https://localhost:8080/"
    },
    "id": "vCJlH2I-Cjvl",
    "outputId": "57119574-9faf-4f22-d386-a4d2a280f88e"
   },
   "outputs": [
    {
     "data": {
      "text/plain": [
       "(60000, 784)"
      ]
     },
     "execution_count": 27,
     "metadata": {
      "tags": []
     },
     "output_type": "execute_result"
    }
   ],
   "source": [
    "x_train_flatten.shape"
   ]
  },
  {
   "cell_type": "code",
   "execution_count": 28,
   "metadata": {
    "id": "UNiyfGg3C6Xd"
   },
   "outputs": [],
   "source": [
    "x_test_flatten = x_test.reshape(-1,28*28)"
   ]
  },
  {
   "cell_type": "code",
   "execution_count": 29,
   "metadata": {
    "colab": {
     "base_uri": "https://localhost:8080/"
    },
    "id": "ljCVEzeJDL0K",
    "outputId": "71d22046-30d7-4aff-e158-d9cdf02680ee"
   },
   "outputs": [
    {
     "data": {
      "text/plain": [
       "(10000, 784)"
      ]
     },
     "execution_count": 29,
     "metadata": {
      "tags": []
     },
     "output_type": "execute_result"
    }
   ],
   "source": [
    "x_test_flatten.shape"
   ]
  },
  {
   "cell_type": "code",
   "execution_count": 30,
   "metadata": {
    "id": "SlxbnvpADPG_"
   },
   "outputs": [],
   "source": [
    "import pandas as pd\n",
    "y_train_categorical = pd.get_dummies(y_train)\n",
    "y_test_categorical = pd.get_dummies(y_test)"
   ]
  },
  {
   "cell_type": "code",
   "execution_count": 31,
   "metadata": {
    "colab": {
     "base_uri": "https://localhost:8080/",
     "height": 423
    },
    "id": "aNJhNrkbD-po",
    "outputId": "2bc69838-d6a0-4535-9c0e-4699f81d2941"
   },
   "outputs": [
    {
     "data": {
      "text/html": [
       "<div>\n",
       "<style scoped>\n",
       "    .dataframe tbody tr th:only-of-type {\n",
       "        vertical-align: middle;\n",
       "    }\n",
       "\n",
       "    .dataframe tbody tr th {\n",
       "        vertical-align: top;\n",
       "    }\n",
       "\n",
       "    .dataframe thead th {\n",
       "        text-align: right;\n",
       "    }\n",
       "</style>\n",
       "<table border=\"1\" class=\"dataframe\">\n",
       "  <thead>\n",
       "    <tr style=\"text-align: right;\">\n",
       "      <th></th>\n",
       "      <th>0</th>\n",
       "      <th>1</th>\n",
       "      <th>2</th>\n",
       "      <th>3</th>\n",
       "      <th>4</th>\n",
       "      <th>5</th>\n",
       "      <th>6</th>\n",
       "      <th>7</th>\n",
       "      <th>8</th>\n",
       "      <th>9</th>\n",
       "    </tr>\n",
       "  </thead>\n",
       "  <tbody>\n",
       "    <tr>\n",
       "      <th>0</th>\n",
       "      <td>0</td>\n",
       "      <td>0</td>\n",
       "      <td>0</td>\n",
       "      <td>0</td>\n",
       "      <td>0</td>\n",
       "      <td>1</td>\n",
       "      <td>0</td>\n",
       "      <td>0</td>\n",
       "      <td>0</td>\n",
       "      <td>0</td>\n",
       "    </tr>\n",
       "    <tr>\n",
       "      <th>1</th>\n",
       "      <td>1</td>\n",
       "      <td>0</td>\n",
       "      <td>0</td>\n",
       "      <td>0</td>\n",
       "      <td>0</td>\n",
       "      <td>0</td>\n",
       "      <td>0</td>\n",
       "      <td>0</td>\n",
       "      <td>0</td>\n",
       "      <td>0</td>\n",
       "    </tr>\n",
       "    <tr>\n",
       "      <th>2</th>\n",
       "      <td>0</td>\n",
       "      <td>0</td>\n",
       "      <td>0</td>\n",
       "      <td>0</td>\n",
       "      <td>1</td>\n",
       "      <td>0</td>\n",
       "      <td>0</td>\n",
       "      <td>0</td>\n",
       "      <td>0</td>\n",
       "      <td>0</td>\n",
       "    </tr>\n",
       "    <tr>\n",
       "      <th>3</th>\n",
       "      <td>0</td>\n",
       "      <td>1</td>\n",
       "      <td>0</td>\n",
       "      <td>0</td>\n",
       "      <td>0</td>\n",
       "      <td>0</td>\n",
       "      <td>0</td>\n",
       "      <td>0</td>\n",
       "      <td>0</td>\n",
       "      <td>0</td>\n",
       "    </tr>\n",
       "    <tr>\n",
       "      <th>4</th>\n",
       "      <td>0</td>\n",
       "      <td>0</td>\n",
       "      <td>0</td>\n",
       "      <td>0</td>\n",
       "      <td>0</td>\n",
       "      <td>0</td>\n",
       "      <td>0</td>\n",
       "      <td>0</td>\n",
       "      <td>0</td>\n",
       "      <td>1</td>\n",
       "    </tr>\n",
       "    <tr>\n",
       "      <th>...</th>\n",
       "      <td>...</td>\n",
       "      <td>...</td>\n",
       "      <td>...</td>\n",
       "      <td>...</td>\n",
       "      <td>...</td>\n",
       "      <td>...</td>\n",
       "      <td>...</td>\n",
       "      <td>...</td>\n",
       "      <td>...</td>\n",
       "      <td>...</td>\n",
       "    </tr>\n",
       "    <tr>\n",
       "      <th>59995</th>\n",
       "      <td>0</td>\n",
       "      <td>0</td>\n",
       "      <td>0</td>\n",
       "      <td>0</td>\n",
       "      <td>0</td>\n",
       "      <td>0</td>\n",
       "      <td>0</td>\n",
       "      <td>0</td>\n",
       "      <td>1</td>\n",
       "      <td>0</td>\n",
       "    </tr>\n",
       "    <tr>\n",
       "      <th>59996</th>\n",
       "      <td>0</td>\n",
       "      <td>0</td>\n",
       "      <td>0</td>\n",
       "      <td>1</td>\n",
       "      <td>0</td>\n",
       "      <td>0</td>\n",
       "      <td>0</td>\n",
       "      <td>0</td>\n",
       "      <td>0</td>\n",
       "      <td>0</td>\n",
       "    </tr>\n",
       "    <tr>\n",
       "      <th>59997</th>\n",
       "      <td>0</td>\n",
       "      <td>0</td>\n",
       "      <td>0</td>\n",
       "      <td>0</td>\n",
       "      <td>0</td>\n",
       "      <td>1</td>\n",
       "      <td>0</td>\n",
       "      <td>0</td>\n",
       "      <td>0</td>\n",
       "      <td>0</td>\n",
       "    </tr>\n",
       "    <tr>\n",
       "      <th>59998</th>\n",
       "      <td>0</td>\n",
       "      <td>0</td>\n",
       "      <td>0</td>\n",
       "      <td>0</td>\n",
       "      <td>0</td>\n",
       "      <td>0</td>\n",
       "      <td>1</td>\n",
       "      <td>0</td>\n",
       "      <td>0</td>\n",
       "      <td>0</td>\n",
       "    </tr>\n",
       "    <tr>\n",
       "      <th>59999</th>\n",
       "      <td>0</td>\n",
       "      <td>0</td>\n",
       "      <td>0</td>\n",
       "      <td>0</td>\n",
       "      <td>0</td>\n",
       "      <td>0</td>\n",
       "      <td>0</td>\n",
       "      <td>0</td>\n",
       "      <td>1</td>\n",
       "      <td>0</td>\n",
       "    </tr>\n",
       "  </tbody>\n",
       "</table>\n",
       "<p>60000 rows × 10 columns</p>\n",
       "</div>"
      ],
      "text/plain": [
       "       0  1  2  3  4  5  6  7  8  9\n",
       "0      0  0  0  0  0  1  0  0  0  0\n",
       "1      1  0  0  0  0  0  0  0  0  0\n",
       "2      0  0  0  0  1  0  0  0  0  0\n",
       "3      0  1  0  0  0  0  0  0  0  0\n",
       "4      0  0  0  0  0  0  0  0  0  1\n",
       "...   .. .. .. .. .. .. .. .. .. ..\n",
       "59995  0  0  0  0  0  0  0  0  1  0\n",
       "59996  0  0  0  1  0  0  0  0  0  0\n",
       "59997  0  0  0  0  0  1  0  0  0  0\n",
       "59998  0  0  0  0  0  0  1  0  0  0\n",
       "59999  0  0  0  0  0  0  0  0  1  0\n",
       "\n",
       "[60000 rows x 10 columns]"
      ]
     },
     "execution_count": 31,
     "metadata": {
      "tags": []
     },
     "output_type": "execute_result"
    }
   ],
   "source": [
    "y_train_categorical"
   ]
  },
  {
   "cell_type": "code",
   "execution_count": 32,
   "metadata": {
    "id": "WjYBS3Wwh8Dv"
   },
   "outputs": [],
   "source": [
    "x_train_flatten = x_train_flatten.astype('float32')\n",
    "x_test_flatten = x_test_flatten.astype('float32')"
   ]
  },
  {
   "cell_type": "code",
   "execution_count": 33,
   "metadata": {
    "id": "WgOTXzx1EKu1"
   },
   "outputs": [],
   "source": [
    "from keras.models import Sequential"
   ]
  },
  {
   "cell_type": "code",
   "execution_count": 34,
   "metadata": {
    "id": "TTDUhsOMGvOq"
   },
   "outputs": [],
   "source": [
    "model = Sequential()"
   ]
  },
  {
   "cell_type": "code",
   "execution_count": 35,
   "metadata": {
    "id": "f-DtfkGdGyX1"
   },
   "outputs": [],
   "source": [
    "from keras.layers import Dense"
   ]
  },
  {
   "cell_type": "code",
   "execution_count": 36,
   "metadata": {
    "id": "6cm1z8f9HfEO"
   },
   "outputs": [],
   "source": [
    "model.add(\n",
    "    Dense(\n",
    "        units=500,\n",
    "        activation=\"relu\",\n",
    "        input_dim=28*28,\n",
    "        kernel_initializer=\"he_normal\"\n",
    "    )\n",
    ")"
   ]
  },
  {
   "cell_type": "code",
   "execution_count": 37,
   "metadata": {
    "colab": {
     "base_uri": "https://localhost:8080/"
    },
    "id": "twVbBCW-Hrci",
    "outputId": "044049b3-ab3e-4419-d0c8-024659c2f6eb"
   },
   "outputs": [
    {
     "name": "stdout",
     "output_type": "stream",
     "text": [
      "Model: \"sequential\"\n",
      "_________________________________________________________________\n",
      "Layer (type)                 Output Shape              Param #   \n",
      "=================================================================\n",
      "dense (Dense)                (None, 500)               392500    \n",
      "=================================================================\n",
      "Total params: 392,500\n",
      "Trainable params: 392,500\n",
      "Non-trainable params: 0\n",
      "_________________________________________________________________\n"
     ]
    }
   ],
   "source": [
    "model.summary()"
   ]
  },
  {
   "cell_type": "code",
   "execution_count": 38,
   "metadata": {
    "id": "FN1dgNCfH6YG"
   },
   "outputs": [],
   "source": [
    "#model.add(\n",
    " #   Dense(\n",
    "  #      units=125,\n",
    "   #     activation=\"relu\"\n",
    "    #)\n",
    "#)"
   ]
  },
  {
   "cell_type": "code",
   "execution_count": 39,
   "metadata": {
    "id": "D2ZKAo5AQDnP"
   },
   "outputs": [],
   "source": [
    "#model.add(\n",
    " #   Dense(\n",
    "  #      units=250,\n",
    "   #     activation=\"relu\"\n",
    "    #)\n",
    "#)"
   ]
  },
  {
   "cell_type": "code",
   "execution_count": 40,
   "metadata": {
    "id": "krGz9jkIH90-"
   },
   "outputs": [],
   "source": [
    "model.add(\n",
    "    Dense(\n",
    "        units=10,\n",
    "        activation=\"softmax\"\n",
    "    )\n",
    ")"
   ]
  },
  {
   "cell_type": "code",
   "execution_count": 41,
   "metadata": {
    "colab": {
     "base_uri": "https://localhost:8080/"
    },
    "id": "dHPIubfuIEjH",
    "outputId": "5c19ac91-686e-4d49-8fa8-4c1a7d62bd43"
   },
   "outputs": [
    {
     "name": "stdout",
     "output_type": "stream",
     "text": [
      "Model: \"sequential\"\n",
      "_________________________________________________________________\n",
      "Layer (type)                 Output Shape              Param #   \n",
      "=================================================================\n",
      "dense (Dense)                (None, 500)               392500    \n",
      "_________________________________________________________________\n",
      "dense_1 (Dense)              (None, 10)                5010      \n",
      "=================================================================\n",
      "Total params: 397,510\n",
      "Trainable params: 397,510\n",
      "Non-trainable params: 0\n",
      "_________________________________________________________________\n"
     ]
    }
   ],
   "source": [
    "model.summary()"
   ]
  },
  {
   "cell_type": "code",
   "execution_count": 42,
   "metadata": {
    "id": "6RqdYTg_IIXg"
   },
   "outputs": [],
   "source": [
    "from keras.optimizers import Adadelta"
   ]
  },
  {
   "cell_type": "code",
   "execution_count": 43,
   "metadata": {
    "id": "5LJg6Da4IR1i"
   },
   "outputs": [],
   "source": [
    "model.compile(\n",
    "    optimizer=Adadelta(),\n",
    "    loss=\"categorical_crossentropy\",\n",
    "    metrics=['accuracy']\n",
    ")"
   ]
  },
  {
   "cell_type": "code",
   "execution_count": 44,
   "metadata": {
    "colab": {
     "base_uri": "https://localhost:8080/"
    },
    "id": "Y6Se-PUgIri8",
    "outputId": "56ec5f24-8bff-4211-a6bf-9c708b9263d3"
   },
   "outputs": [
    {
     "name": "stdout",
     "output_type": "stream",
     "text": [
      "Epoch 1/50\n",
      "1875/1875 [==============================] - 24s 5ms/step - loss: 126.6630 - accuracy: 0.1214 - val_loss: 54.6203 - val_accuracy: 0.3241\n",
      "Epoch 2/50\n",
      "1875/1875 [==============================] - 10s 5ms/step - loss: 48.2108 - accuracy: 0.3582 - val_loss: 31.0230 - val_accuracy: 0.5105\n",
      "Epoch 3/50\n",
      "1875/1875 [==============================] - 9s 5ms/step - loss: 29.5270 - accuracy: 0.5224 - val_loss: 21.8785 - val_accuracy: 0.6167\n",
      "Epoch 4/50\n",
      "1875/1875 [==============================] - 10s 5ms/step - loss: 21.5190 - accuracy: 0.6235 - val_loss: 17.3046 - val_accuracy: 0.6778\n",
      "Epoch 5/50\n",
      "1875/1875 [==============================] - 10s 5ms/step - loss: 17.1787 - accuracy: 0.6803 - val_loss: 14.6184 - val_accuracy: 0.7185\n",
      "Epoch 6/50\n",
      "1875/1875 [==============================] - 10s 5ms/step - loss: 14.9307 - accuracy: 0.7169 - val_loss: 12.8329 - val_accuracy: 0.7507\n",
      "Epoch 7/50\n",
      "1875/1875 [==============================] - 10s 5ms/step - loss: 13.2147 - accuracy: 0.7422 - val_loss: 11.5400 - val_accuracy: 0.7713\n",
      "Epoch 8/50\n",
      "1875/1875 [==============================] - 10s 5ms/step - loss: 11.7951 - accuracy: 0.7634 - val_loss: 10.5692 - val_accuracy: 0.7893\n",
      "Epoch 9/50\n",
      "1875/1875 [==============================] - 10s 5ms/step - loss: 10.9046 - accuracy: 0.7814 - val_loss: 9.8096 - val_accuracy: 0.8012\n",
      "Epoch 10/50\n",
      "1875/1875 [==============================] - 10s 5ms/step - loss: 10.1469 - accuracy: 0.7939 - val_loss: 9.2071 - val_accuracy: 0.8111\n",
      "Epoch 11/50\n",
      "1875/1875 [==============================] - 10s 5ms/step - loss: 9.6180 - accuracy: 0.8045 - val_loss: 8.7006 - val_accuracy: 0.8203\n",
      "Epoch 12/50\n",
      "1875/1875 [==============================] - 10s 5ms/step - loss: 9.2873 - accuracy: 0.8103 - val_loss: 8.2724 - val_accuracy: 0.8282\n",
      "Epoch 13/50\n",
      "1875/1875 [==============================] - 10s 5ms/step - loss: 8.5671 - accuracy: 0.8212 - val_loss: 7.8910 - val_accuracy: 0.8345\n",
      "Epoch 14/50\n",
      "1875/1875 [==============================] - 9s 5ms/step - loss: 8.4134 - accuracy: 0.8255 - val_loss: 7.5614 - val_accuracy: 0.8406\n",
      "Epoch 15/50\n",
      "1875/1875 [==============================] - 9s 5ms/step - loss: 7.9060 - accuracy: 0.8317 - val_loss: 7.2858 - val_accuracy: 0.8473\n",
      "Epoch 16/50\n",
      "1875/1875 [==============================] - 9s 5ms/step - loss: 7.5885 - accuracy: 0.8384 - val_loss: 7.0414 - val_accuracy: 0.8519\n",
      "Epoch 17/50\n",
      "1875/1875 [==============================] - 9s 5ms/step - loss: 7.1978 - accuracy: 0.8436 - val_loss: 6.8231 - val_accuracy: 0.8571\n",
      "Epoch 18/50\n",
      "1875/1875 [==============================] - 9s 5ms/step - loss: 7.1081 - accuracy: 0.8451 - val_loss: 6.6280 - val_accuracy: 0.8601\n",
      "Epoch 19/50\n",
      "1875/1875 [==============================] - 9s 5ms/step - loss: 6.8081 - accuracy: 0.8522 - val_loss: 6.4347 - val_accuracy: 0.8634\n",
      "Epoch 20/50\n",
      "1875/1875 [==============================] - 9s 5ms/step - loss: 6.4875 - accuracy: 0.8546 - val_loss: 6.2605 - val_accuracy: 0.8657\n",
      "Epoch 21/50\n",
      "1875/1875 [==============================] - 9s 5ms/step - loss: 6.4830 - accuracy: 0.8567 - val_loss: 6.1045 - val_accuracy: 0.8676\n",
      "Epoch 22/50\n",
      "1875/1875 [==============================] - 9s 5ms/step - loss: 6.1378 - accuracy: 0.8625 - val_loss: 5.9591 - val_accuracy: 0.8690\n",
      "Epoch 23/50\n",
      "1875/1875 [==============================] - 9s 5ms/step - loss: 6.2121 - accuracy: 0.8613 - val_loss: 5.8288 - val_accuracy: 0.8721\n",
      "Epoch 24/50\n",
      "1875/1875 [==============================] - 9s 5ms/step - loss: 5.9929 - accuracy: 0.8646 - val_loss: 5.7144 - val_accuracy: 0.8736\n",
      "Epoch 25/50\n",
      "1875/1875 [==============================] - 9s 5ms/step - loss: 5.9157 - accuracy: 0.8666 - val_loss: 5.5881 - val_accuracy: 0.8752\n",
      "Epoch 26/50\n",
      "1875/1875 [==============================] - 9s 5ms/step - loss: 5.6811 - accuracy: 0.8678 - val_loss: 5.4833 - val_accuracy: 0.8777\n",
      "Epoch 27/50\n",
      "1875/1875 [==============================] - 9s 5ms/step - loss: 5.6460 - accuracy: 0.8717 - val_loss: 5.3816 - val_accuracy: 0.8792\n",
      "Epoch 28/50\n",
      "1875/1875 [==============================] - 9s 5ms/step - loss: 5.2599 - accuracy: 0.8746 - val_loss: 5.2881 - val_accuracy: 0.8804\n",
      "Epoch 29/50\n",
      "1875/1875 [==============================] - 9s 5ms/step - loss: 5.1802 - accuracy: 0.8765 - val_loss: 5.1990 - val_accuracy: 0.8815\n",
      "Epoch 30/50\n",
      "1875/1875 [==============================] - 9s 5ms/step - loss: 5.0967 - accuracy: 0.8785 - val_loss: 5.1097 - val_accuracy: 0.8832\n",
      "Epoch 31/50\n",
      "1875/1875 [==============================] - 9s 5ms/step - loss: 5.1227 - accuracy: 0.8792 - val_loss: 5.0405 - val_accuracy: 0.8836\n",
      "Epoch 32/50\n",
      "1875/1875 [==============================] - 9s 5ms/step - loss: 4.8107 - accuracy: 0.8824 - val_loss: 4.9578 - val_accuracy: 0.8855\n",
      "Epoch 33/50\n",
      "1875/1875 [==============================] - 9s 5ms/step - loss: 4.8521 - accuracy: 0.8805 - val_loss: 4.8863 - val_accuracy: 0.8871\n",
      "Epoch 34/50\n",
      "1875/1875 [==============================] - 10s 5ms/step - loss: 4.8147 - accuracy: 0.8838 - val_loss: 4.8322 - val_accuracy: 0.8868\n",
      "Epoch 35/50\n",
      "1875/1875 [==============================] - 10s 5ms/step - loss: 4.7153 - accuracy: 0.8844 - val_loss: 4.7574 - val_accuracy: 0.8885\n",
      "Epoch 36/50\n",
      "1875/1875 [==============================] - 10s 5ms/step - loss: 4.5701 - accuracy: 0.8868 - val_loss: 4.6923 - val_accuracy: 0.8888\n",
      "Epoch 37/50\n",
      "1875/1875 [==============================] - 10s 5ms/step - loss: 4.5808 - accuracy: 0.8870 - val_loss: 4.6301 - val_accuracy: 0.8904\n",
      "Epoch 38/50\n",
      "1875/1875 [==============================] - 10s 5ms/step - loss: 4.4791 - accuracy: 0.8878 - val_loss: 4.5825 - val_accuracy: 0.8911\n",
      "Epoch 39/50\n",
      "1875/1875 [==============================] - 9s 5ms/step - loss: 4.2761 - accuracy: 0.8906 - val_loss: 4.5301 - val_accuracy: 0.8913\n",
      "Epoch 40/50\n",
      "1875/1875 [==============================] - 10s 5ms/step - loss: 4.3326 - accuracy: 0.8904 - val_loss: 4.4818 - val_accuracy: 0.8916\n",
      "Epoch 41/50\n",
      "1875/1875 [==============================] - 10s 5ms/step - loss: 4.1927 - accuracy: 0.8933 - val_loss: 4.4337 - val_accuracy: 0.8932\n",
      "Epoch 42/50\n",
      "1875/1875 [==============================] - 10s 5ms/step - loss: 4.0691 - accuracy: 0.8972 - val_loss: 4.3772 - val_accuracy: 0.8941\n",
      "Epoch 43/50\n",
      "1875/1875 [==============================] - 9s 5ms/step - loss: 4.1260 - accuracy: 0.8928 - val_loss: 4.3410 - val_accuracy: 0.8944\n",
      "Epoch 44/50\n",
      "1875/1875 [==============================] - 9s 5ms/step - loss: 4.0790 - accuracy: 0.8965 - val_loss: 4.2935 - val_accuracy: 0.8950\n",
      "Epoch 45/50\n",
      "1875/1875 [==============================] - 10s 5ms/step - loss: 3.9418 - accuracy: 0.8978 - val_loss: 4.2535 - val_accuracy: 0.8953\n",
      "Epoch 46/50\n",
      "1875/1875 [==============================] - 9s 5ms/step - loss: 3.8907 - accuracy: 0.8981 - val_loss: 4.2068 - val_accuracy: 0.8968\n",
      "Epoch 47/50\n",
      "1875/1875 [==============================] - 10s 5ms/step - loss: 3.8989 - accuracy: 0.9002 - val_loss: 4.1713 - val_accuracy: 0.8975\n",
      "Epoch 48/50\n",
      "1875/1875 [==============================] - 10s 5ms/step - loss: 3.6575 - accuracy: 0.9027 - val_loss: 4.1351 - val_accuracy: 0.8974\n",
      "Epoch 49/50\n",
      "1875/1875 [==============================] - 10s 5ms/step - loss: 3.7631 - accuracy: 0.9006 - val_loss: 4.0982 - val_accuracy: 0.8982\n",
      "Epoch 50/50\n",
      "1875/1875 [==============================] - 10s 5ms/step - loss: 3.6974 - accuracy: 0.9020 - val_loss: 4.0590 - val_accuracy: 0.8994\n"
     ]
    },
    {
     "data": {
      "text/plain": [
       "<keras.callbacks.History at 0x7f07ae2643d0>"
      ]
     },
     "execution_count": 44,
     "metadata": {
      "tags": []
     },
     "output_type": "execute_result"
    }
   ],
   "source": [
    "model.fit(x_train_flatten,y_train_categorical,epochs=50,shuffle=True,validation_data=(x_test_flatten,y_test_categorical))"
   ]
  },
  {
   "cell_type": "code",
   "execution_count": 45,
   "metadata": {
    "id": "0JPFDTfBJAUw"
   },
   "outputs": [],
   "source": [
    "loss = model.history.history['loss']"
   ]
  },
  {
   "cell_type": "code",
   "execution_count": 46,
   "metadata": {
    "colab": {
     "base_uri": "https://localhost:8080/"
    },
    "id": "OkZcyq7vMyxc",
    "outputId": "e90e4f9d-90e0-4639-876f-a22b6eb1a236"
   },
   "outputs": [
    {
     "data": {
      "text/plain": [
       "list"
      ]
     },
     "execution_count": 46,
     "metadata": {
      "tags": []
     },
     "output_type": "execute_result"
    }
   ],
   "source": [
    "type(loss)"
   ]
  },
  {
   "cell_type": "code",
   "execution_count": 47,
   "metadata": {
    "id": "UsmbGwMgM0sH"
   },
   "outputs": [],
   "source": [
    "loss = pd.DataFrame(loss)"
   ]
  },
  {
   "cell_type": "code",
   "execution_count": 48,
   "metadata": {
    "colab": {
     "base_uri": "https://localhost:8080/",
     "height": 282
    },
    "id": "RBd0D3XBNFKV",
    "outputId": "f5cdb6df-fdd6-45ac-cc88-6006a4648fd4"
   },
   "outputs": [
    {
     "data": {
      "text/plain": [
       "<matplotlib.axes._subplots.AxesSubplot at 0x7f07ad39ddd0>"
      ]
     },
     "execution_count": 48,
     "metadata": {
      "tags": []
     },
     "output_type": "execute_result"
    },
    {
     "data": {
      "image/png": "[encoded data removed]",
      "text/plain": [
       "<Figure size 432x288 with 1 Axes>"
      ]
     },
     "metadata": {
      "needs_background": "light",
      "tags": []
     },
     "output_type": "display_data"
    }
   ],
   "source": [
    "loss.plot()"
   ]
  },
  {
   "cell_type": "code",
   "execution_count": 49,
   "metadata": {
    "id": "o97tDdcNNH8S"
   },
   "outputs": [],
   "source": [
    "accuracy = model.history.history[\"accuracy\"]"
   ]
  },
  {
   "cell_type": "code",
   "execution_count": 50,
   "metadata": {
    "id": "3rHR0R8DNSVL"
   },
   "outputs": [],
   "source": [
    "accuracy = pd.DataFrame(accuracy)"
   ]
  },
  {
   "cell_type": "code",
   "execution_count": 51,
   "metadata": {
    "colab": {
     "base_uri": "https://localhost:8080/",
     "height": 282
    },
    "id": "OsFMe3u9NhLV",
    "outputId": "22b5a96b-3ee7-40c4-f3b0-38e38e97a0a1"
   },
   "outputs": [
    {
     "data": {
      "text/plain": [
       "<matplotlib.axes._subplots.AxesSubplot at 0x7f07ae211e50>"
      ]
     },
     "execution_count": 51,
     "metadata": {
      "tags": []
     },
     "output_type": "execute_result"
    },
    {
     "data": {
      "image/png": "[encoded data removed]",
      "text/plain": [
       "<Figure size 432x288 with 1 Axes>"
      ]
     },
     "metadata": {
      "needs_background": "light",
      "tags": []
     },
     "output_type": "display_data"
    }
   ],
   "source": [
    "accuracy.plot()"
   ]
  },
  {
   "cell_type": "code",
   "execution_count": 52,
   "metadata": {
    "id": "-Mch9EOuNkH8"
   },
   "outputs": [],
   "source": [
    "#import keras.backend as k"
   ]
  },
  {
   "cell_type": "code",
   "execution_count": 53,
   "metadata": {
    "id": "ZKFpLF1dU14b"
   },
   "outputs": [],
   "source": [
    "#k.clear_session()"
   ]
  },
  {
   "cell_type": "code",
   "execution_count": 84,
   "metadata": {
    "id": "Elgm26TdU5ah"
   },
   "outputs": [],
   "source": [
    "model.save(\"90_percent_accuracy_model.h5\")"
   ]
  },
  {
   "cell_type": "code",
   "execution_count": 55,
   "metadata": {
    "colab": {
     "base_uri": "https://localhost:8080/"
    },
    "id": "rWbNi_gmWzix",
    "outputId": "da5632fa-06bb-4ebc-8762-24846ddcaa1a"
   },
   "outputs": [
    {
     "data": {
      "text/plain": [
       "(10000, 784)"
      ]
     },
     "execution_count": 55,
     "metadata": {
      "tags": []
     },
     "output_type": "execute_result"
    }
   ],
   "source": [
    "x_test_flatten.shape"
   ]
  },
  {
   "cell_type": "code",
   "execution_count": 72,
   "metadata": {
    "id": "rV82VhkLlwxc"
   },
   "outputs": [],
   "source": [
    "img_test = x_test_flatten[1000]"
   ]
  },
  {
   "cell_type": "code",
   "execution_count": 73,
   "metadata": {
    "colab": {
     "base_uri": "https://localhost:8080/"
    },
    "id": "obzUUF5DrWoK",
    "outputId": "25d1dcea-39e8-40ec-ab7c-cb2f35c03a7d"
   },
   "outputs": [
    {
     "data": {
      "text/plain": [
       "9"
      ]
     },
     "execution_count": 73,
     "metadata": {
      "tags": []
     },
     "output_type": "execute_result"
    }
   ],
   "source": [
    "y_test[1000]"
   ]
  },
  {
   "cell_type": "code",
   "execution_count": 74,
   "metadata": {
    "colab": {
     "base_uri": "https://localhost:8080/"
    },
    "id": "Aq3ktn4umxfT",
    "outputId": "990df46e-d430-43c9-e985-43d1c619bb4f"
   },
   "outputs": [
    {
     "data": {
      "text/plain": [
       "numpy.ndarray"
      ]
     },
     "execution_count": 74,
     "metadata": {
      "tags": []
     },
     "output_type": "execute_result"
    }
   ],
   "source": [
    "type(img_test)"
   ]
  },
  {
   "cell_type": "code",
   "execution_count": 75,
   "metadata": {
    "colab": {
     "base_uri": "https://localhost:8080/"
    },
    "id": "DRUfeysYl4X-",
    "outputId": "2e8bf460-abef-4e2f-aa7d-a13a6d4c72cb"
   },
   "outputs": [
    {
     "data": {
      "text/plain": [
       "(784,)"
      ]
     },
     "execution_count": 75,
     "metadata": {
      "tags": []
     },
     "output_type": "execute_result"
    }
   ],
   "source": [
    "img_test.shape"
   ]
  },
  {
   "cell_type": "code",
   "execution_count": 76,
   "metadata": {
    "id": "gbp0Q4vQmQo4"
   },
   "outputs": [],
   "source": [
    "img_test_final = img_test.reshape(1,784)"
   ]
  },
  {
   "cell_type": "code",
   "execution_count": 77,
   "metadata": {
    "colab": {
     "base_uri": "https://localhost:8080/"
    },
    "id": "zn4BHWZfmQkD",
    "outputId": "13baf959-dcb6-4772-9bbb-0ababe7547a3"
   },
   "outputs": [
    {
     "data": {
      "text/plain": [
       "(1, 784)"
      ]
     },
     "execution_count": 77,
     "metadata": {
      "tags": []
     },
     "output_type": "execute_result"
    }
   ],
   "source": [
    "img_test_final.shape"
   ]
  },
  {
   "cell_type": "code",
   "execution_count": 78,
   "metadata": {
    "colab": {
     "base_uri": "https://localhost:8080/"
    },
    "id": "E7Cu3Jkgl509",
    "outputId": "57f94585-feb0-4cd4-93b0-e853e5550509"
   },
   "outputs": [
    {
     "data": {
      "text/plain": [
       "array([[0.000000e+00, 0.000000e+00, 0.000000e+00, 0.000000e+00,\n",
       "        0.000000e+00, 0.000000e+00, 0.000000e+00, 8.650604e-11,\n",
       "        0.000000e+00, 1.000000e+00]], dtype=float32)"
      ]
     },
     "execution_count": 78,
     "metadata": {
      "tags": []
     },
     "output_type": "execute_result"
    }
   ],
   "source": [
    "\n",
    "model.predict(img_test_final)"
   ]
  },
  {
   "cell_type": "code",
   "execution_count": 79,
   "metadata": {
    "colab": {
     "base_uri": "https://localhost:8080/"
    },
    "id": "XsFvU0sdmI_f",
    "outputId": "a7950051-958e-40d5-ad11-500437c84d06"
   },
   "outputs": [
    {
     "data": {
      "text/plain": [
       "5"
      ]
     },
     "execution_count": 79,
     "metadata": {
      "tags": []
     },
     "output_type": "execute_result"
    }
   ],
   "source": [
    "y_test[15]"
   ]
  },
  {
   "cell_type": "code",
   "execution_count": 83,
   "metadata": {
    "colab": {
     "base_uri": "https://localhost:8080/"
    },
    "id": "jPRxhZlNmpaO",
    "outputId": "91b7caa2-3e2a-4491-8499-25a62f5ea589"
   },
   "outputs": [
    {
     "name": "stdout",
     "output_type": "stream",
     "text": [
      "313/313 [==============================] - 1s 2ms/step - loss: 4.0590 - accuracy: 0.8994\n"
     ]
    },
    {
     "data": {
      "text/plain": [
       "[4.059044361114502, 0.899399995803833]"
      ]
     },
     "execution_count": 83,
     "metadata": {
      "tags": []
     },
     "output_type": "execute_result"
    }
   ],
   "source": [
    "model.evaluate(x_test_flatten,y_test_categorical,verbose=1)"
   ]
  },
  {
   "cell_type": "code",
   "execution_count": 63,
   "metadata": {
    "id": "8LUGcV7Chl5x"
   },
   "outputs": [],
   "source": []
  }
 ],
 "metadata": {
  "accelerator": "TPU",
  "colab": {
   "collapsed_sections": [],
   "name": "MNIST.ipynb",
   "provenance": []
  },
  "kernelspec": {
   "display_name": "Python 3",
   "language": "python",
   "name": "python3"
  },
  "language_info": {
   "codemirror_mode": {
    "name": "ipython",
    "version": 3
   },
   "file_extension": ".py",
   "mimetype": "text/x-python",
   "name": "python",
   "nbconvert_exporter": "python",
   "pygments_lexer": "ipython3",
   "version": "3.7.10"
  }
 },
 "nbformat": 4,
 "nbformat_minor": 1
}
