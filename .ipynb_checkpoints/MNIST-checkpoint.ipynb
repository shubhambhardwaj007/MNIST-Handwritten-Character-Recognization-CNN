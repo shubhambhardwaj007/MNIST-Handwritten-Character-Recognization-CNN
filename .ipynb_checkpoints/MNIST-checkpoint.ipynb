{
 "cells": [
  {
   "cell_type": "code",
   "execution_count": 1,
   "metadata": {
    "id": "-6RQFv_R8TZv"
   },
   "outputs": [],
   "source": [
    "from keras.datasets import  mnist"
   ]
  },
  {
   "cell_type": "code",
   "execution_count": 2,
   "metadata": {
    "id": "bei54Pr68riA"
   },
   "outputs": [],
   "source": [
    "dataset = mnist.load_data()"
   ]
  },
  {
   "cell_type": "code",
   "execution_count": 3,
   "metadata": {
    "colab": {
     "base_uri": "https://localhost:8080/"
    },
    "id": "9bbxQF2G81df",
    "outputId": "235dc4ef-c921-4abe-f2d1-c1f57b8c420d"
   },
   "outputs": [
    {
     "data": {
      "text/plain": [
       "tuple"
      ]
     },
     "execution_count": 3,
     "metadata": {},
     "output_type": "execute_result"
    }
   ],
   "source": [
    "type(dataset)"
   ]
  },
  {
   "cell_type": "code",
   "execution_count": 4,
   "metadata": {
    "colab": {
     "base_uri": "https://localhost:8080/"
    },
    "id": "DhX_wFJ29A3c",
    "outputId": "f705f6f6-22ad-4f5e-bfe6-66a4e1347031"
   },
   "outputs": [
    {
     "data": {
      "text/plain": [
       "2"
      ]
     },
     "execution_count": 4,
     "metadata": {},
     "output_type": "execute_result"
    }
   ],
   "source": [
    "len(dataset)"
   ]
  },
  {
   "cell_type": "code",
   "execution_count": 5,
   "metadata": {
    "id": "lt6d-p_X9KTO"
   },
   "outputs": [],
   "source": [
    "train,test = dataset"
   ]
  },
  {
   "cell_type": "code",
   "execution_count": 6,
   "metadata": {
    "colab": {
     "base_uri": "https://localhost:8080/"
    },
    "id": "QkAkEcm09Mwc",
    "outputId": "b0945fa7-3c86-4ace-e8d2-85cd98059164"
   },
   "outputs": [
    {
     "data": {
      "text/plain": [
       "(array([[[0, 0, 0, ..., 0, 0, 0],\n",
       "         [0, 0, 0, ..., 0, 0, 0],\n",
       "         [0, 0, 0, ..., 0, 0, 0],\n",
       "         ...,\n",
       "         [0, 0, 0, ..., 0, 0, 0],\n",
       "         [0, 0, 0, ..., 0, 0, 0],\n",
       "         [0, 0, 0, ..., 0, 0, 0]],\n",
       " \n",
       "        [[0, 0, 0, ..., 0, 0, 0],\n",
       "         [0, 0, 0, ..., 0, 0, 0],\n",
       "         [0, 0, 0, ..., 0, 0, 0],\n",
       "         ...,\n",
       "         [0, 0, 0, ..., 0, 0, 0],\n",
       "         [0, 0, 0, ..., 0, 0, 0],\n",
       "         [0, 0, 0, ..., 0, 0, 0]],\n",
       " \n",
       "        [[0, 0, 0, ..., 0, 0, 0],\n",
       "         [0, 0, 0, ..., 0, 0, 0],\n",
       "         [0, 0, 0, ..., 0, 0, 0],\n",
       "         ...,\n",
       "         [0, 0, 0, ..., 0, 0, 0],\n",
       "         [0, 0, 0, ..., 0, 0, 0],\n",
       "         [0, 0, 0, ..., 0, 0, 0]],\n",
       " \n",
       "        ...,\n",
       " \n",
       "        [[0, 0, 0, ..., 0, 0, 0],\n",
       "         [0, 0, 0, ..., 0, 0, 0],\n",
       "         [0, 0, 0, ..., 0, 0, 0],\n",
       "         ...,\n",
       "         [0, 0, 0, ..., 0, 0, 0],\n",
       "         [0, 0, 0, ..., 0, 0, 0],\n",
       "         [0, 0, 0, ..., 0, 0, 0]],\n",
       " \n",
       "        [[0, 0, 0, ..., 0, 0, 0],\n",
       "         [0, 0, 0, ..., 0, 0, 0],\n",
       "         [0, 0, 0, ..., 0, 0, 0],\n",
       "         ...,\n",
       "         [0, 0, 0, ..., 0, 0, 0],\n",
       "         [0, 0, 0, ..., 0, 0, 0],\n",
       "         [0, 0, 0, ..., 0, 0, 0]],\n",
       " \n",
       "        [[0, 0, 0, ..., 0, 0, 0],\n",
       "         [0, 0, 0, ..., 0, 0, 0],\n",
       "         [0, 0, 0, ..., 0, 0, 0],\n",
       "         ...,\n",
       "         [0, 0, 0, ..., 0, 0, 0],\n",
       "         [0, 0, 0, ..., 0, 0, 0],\n",
       "         [0, 0, 0, ..., 0, 0, 0]]], dtype=uint8),\n",
       " array([5, 0, 4, ..., 5, 6, 8], dtype=uint8))"
      ]
     },
     "execution_count": 6,
     "metadata": {},
     "output_type": "execute_result"
    }
   ],
   "source": [
    "train"
   ]
  },
  {
   "cell_type": "code",
   "execution_count": 7,
   "metadata": {
    "id": "y4lrEfPR9XzC"
   },
   "outputs": [],
   "source": [
    "x_train , y_train = train"
   ]
  },
  {
   "cell_type": "code",
   "execution_count": 8,
   "metadata": {
    "colab": {
     "base_uri": "https://localhost:8080/"
    },
    "id": "TvSv5XkZ9p4Y",
    "outputId": "f82c29dc-7d11-41ae-86da-e24001057c96"
   },
   "outputs": [
    {
     "data": {
      "text/plain": [
       "(60000, 28, 28)"
      ]
     },
     "execution_count": 8,
     "metadata": {},
     "output_type": "execute_result"
    }
   ],
   "source": [
    "x_train.shape"
   ]
  },
  {
   "cell_type": "code",
   "execution_count": 9,
   "metadata": {},
   "outputs": [
    {
     "data": {
      "text/plain": [
       "numpy.ndarray"
      ]
     },
     "execution_count": 9,
     "metadata": {},
     "output_type": "execute_result"
    }
   ],
   "source": [
    "type(x_train)"
   ]
  },
  {
   "cell_type": "code",
   "execution_count": 10,
   "metadata": {
    "id": "aBbjNlDN9rfk"
   },
   "outputs": [],
   "source": [
    "x_test , y_test = test"
   ]
  },
  {
   "cell_type": "code",
   "execution_count": 11,
   "metadata": {
    "colab": {
     "base_uri": "https://localhost:8080/"
    },
    "id": "67sPNrv6-Rk6",
    "outputId": "6c7a25a4-49db-4d59-c5c9-f2a69c6c7e98"
   },
   "outputs": [
    {
     "data": {
      "text/plain": [
       "(10000, 28, 28)"
      ]
     },
     "execution_count": 11,
     "metadata": {},
     "output_type": "execute_result"
    }
   ],
   "source": [
    "x_test.shape"
   ]
  },
  {
   "cell_type": "code",
   "execution_count": 12,
   "metadata": {
    "colab": {
     "base_uri": "https://localhost:8080/"
    },
    "id": "KRYQjmc0-VIQ",
    "outputId": "8d485359-e8b2-4d0d-a4a4-a5dd3fe1775b"
   },
   "outputs": [
    {
     "data": {
      "text/plain": [
       "60000"
      ]
     },
     "execution_count": 12,
     "metadata": {},
     "output_type": "execute_result"
    }
   ],
   "source": [
    "len(x_train)"
   ]
  },
  {
   "cell_type": "code",
   "execution_count": 13,
   "metadata": {
    "colab": {
     "base_uri": "https://localhost:8080/"
    },
    "id": "V802hUxB-urd",
    "outputId": "dd4be8c4-3a99-47a0-da61-659fe7cc55e4"
   },
   "outputs": [
    {
     "data": {
      "text/plain": [
       "10000"
      ]
     },
     "execution_count": 13,
     "metadata": {},
     "output_type": "execute_result"
    }
   ],
   "source": [
    "len(x_test)"
   ]
  },
  {
   "cell_type": "code",
   "execution_count": 14,
   "metadata": {
    "id": "VjaMLEUA-2D7"
   },
   "outputs": [],
   "source": [
    "import matplotlib.pyplot as plt\n",
    "import cv2"
   ]
  },
  {
   "cell_type": "code",
   "execution_count": 15,
   "metadata": {},
   "outputs": [
    {
     "data": {
      "text/plain": [
       "<matplotlib.image.AxesImage at 0x7fc32d99c4d0>"
      ]
     },
     "execution_count": 15,
     "metadata": {},
     "output_type": "execute_result"
    },
    {
     "data": {
      "image/png": "[encoded data removed]",
      "text/plain": [
       "<Figure size 432x288 with 1 Axes>"
      ]
     },
     "metadata": {
      "needs_background": "light"
     },
     "output_type": "display_data"
    }
   ],
   "source": [
    "cv2.imshow(\"hello\",x_train[50])\n",
    "cv2.waitKey()\n",
    "cv2.destroyAllWindows()\n",
    "\n",
    "#OR\n",
    "plt.imshow(x_train[50],cmap=\"gray\")"
   ]
  },
  {
   "cell_type": "code",
   "execution_count": 16,
   "metadata": {
    "id": "jAr0-K4aBAKK"
   },
   "outputs": [],
   "source": [
    "img_flatten = x_train[28].reshape(28*28)"
   ]
  },
  {
   "cell_type": "code",
   "execution_count": 17,
   "metadata": {
    "colab": {
     "base_uri": "https://localhost:8080/"
    },
    "id": "nNftOqq5BIbx",
    "outputId": "55133ba6-c401-46ae-a026-1c60d9fb178e"
   },
   "outputs": [
    {
     "data": {
      "text/plain": [
       "(784,)"
      ]
     },
     "execution_count": 17,
     "metadata": {},
     "output_type": "execute_result"
    }
   ],
   "source": [
    "img_flatten.shape"
   ]
  },
  {
   "cell_type": "code",
   "execution_count": 18,
   "metadata": {
    "colab": {
     "base_uri": "https://localhost:8080/"
    },
    "id": "mW7QSSGtBSxA",
    "outputId": "cf9f74f5-71ed-41bc-b2b9-6a4046e58153"
   },
   "outputs": [
    {
     "data": {
      "text/plain": [
       "(60000, 28, 28)"
      ]
     },
     "execution_count": 18,
     "metadata": {},
     "output_type": "execute_result"
    }
   ],
   "source": [
    "x_train.shape"
   ]
  },
  {
   "cell_type": "code",
   "execution_count": 19,
   "metadata": {
    "id": "-8d7gN9TCJAX"
   },
   "outputs": [],
   "source": [
    "x_train_flatten = x_train.reshape(-1,28*28)"
   ]
  },
  {
   "cell_type": "code",
   "execution_count": 20,
   "metadata": {
    "colab": {
     "base_uri": "https://localhost:8080/"
    },
    "id": "vCJlH2I-Cjvl",
    "outputId": "57119574-9faf-4f22-d386-a4d2a280f88e"
   },
   "outputs": [
    {
     "data": {
      "text/plain": [
       "(60000, 784)"
      ]
     },
     "execution_count": 20,
     "metadata": {},
     "output_type": "execute_result"
    }
   ],
   "source": [
    "x_train_flatten.shape"
   ]
  },
  {
   "cell_type": "code",
   "execution_count": 21,
   "metadata": {
    "id": "UNiyfGg3C6Xd"
   },
   "outputs": [],
   "source": [
    "x_test_flatten = x_test.reshape(-1,28*28)"
   ]
  },
  {
   "cell_type": "code",
   "execution_count": 22,
   "metadata": {
    "colab": {
     "base_uri": "https://localhost:8080/"
    },
    "id": "ljCVEzeJDL0K",
    "outputId": "71d22046-30d7-4aff-e158-d9cdf02680ee"
   },
   "outputs": [
    {
     "data": {
      "text/plain": [
       "(10000, 784)"
      ]
     },
     "execution_count": 22,
     "metadata": {},
     "output_type": "execute_result"
    }
   ],
   "source": [
    "x_test_flatten.shape"
   ]
  },
  {
   "cell_type": "code",
   "execution_count": 23,
   "metadata": {
    "id": "SlxbnvpADPG_"
   },
   "outputs": [],
   "source": [
    "import pandas as pd\n",
    "y_train_categorical = pd.get_dummies(y_train)\n",
    "y_test_categorical = pd.get_dummies(y_test)\n",
    "\n",
    "#OR\n",
    "\n",
    "import keras.utils.np_utils as ks\n",
    "\n",
    "y_train_categorical = ks.to_categorical(y_train)\n",
    "y_test_categorical = ks.to_categorical(y_test)"
   ]
  },
  {
   "cell_type": "code",
   "execution_count": 24,
   "metadata": {
    "colab": {
     "base_uri": "https://localhost:8080/",
     "height": 423
    },
    "id": "aNJhNrkbD-po",
    "outputId": "2bc69838-d6a0-4535-9c0e-4699f81d2941"
   },
   "outputs": [
    {
     "data": {
      "text/plain": [
       "array([[0., 0., 0., ..., 0., 0., 0.],\n",
       "       [1., 0., 0., ..., 0., 0., 0.],\n",
       "       [0., 0., 0., ..., 0., 0., 0.],\n",
       "       ...,\n",
       "       [0., 0., 0., ..., 0., 0., 0.],\n",
       "       [0., 0., 0., ..., 0., 0., 0.],\n",
       "       [0., 0., 0., ..., 0., 1., 0.]], dtype=float32)"
      ]
     },
     "execution_count": 24,
     "metadata": {},
     "output_type": "execute_result"
    }
   ],
   "source": [
    "y_train_categorical"
   ]
  },
  {
   "cell_type": "code",
   "execution_count": 25,
   "metadata": {},
   "outputs": [
    {
     "data": {
      "text/plain": [
       "(60000,)"
      ]
     },
     "execution_count": 25,
     "metadata": {},
     "output_type": "execute_result"
    }
   ],
   "source": [
    "y_train.shape"
   ]
  },
  {
   "cell_type": "code",
   "execution_count": 26,
   "metadata": {},
   "outputs": [
    {
     "data": {
      "text/plain": [
       "(60000, 10)"
      ]
     },
     "execution_count": 26,
     "metadata": {},
     "output_type": "execute_result"
    }
   ],
   "source": [
    "y_train_categorical.shape"
   ]
  },
  {
   "cell_type": "code",
   "execution_count": 27,
   "metadata": {
    "id": "WjYBS3Wwh8Dv"
   },
   "outputs": [],
   "source": [
    "#x_train_flatten = x_train_flatten.astype('float32')\n",
    "#x_test_flatten = x_test_flatten.astype('float32')"
   ]
  },
  {
   "cell_type": "code",
   "execution_count": 28,
   "metadata": {
    "id": "WgOTXzx1EKu1"
   },
   "outputs": [],
   "source": [
    "from keras.models import Sequential"
   ]
  },
  {
   "cell_type": "code",
   "execution_count": 29,
   "metadata": {
    "id": "TTDUhsOMGvOq"
   },
   "outputs": [],
   "source": [
    "model = Sequential()"
   ]
  },
  {
   "cell_type": "code",
   "execution_count": 30,
   "metadata": {
    "id": "f-DtfkGdGyX1"
   },
   "outputs": [],
   "source": [
    "from keras.layers import Dense"
   ]
  },
  {
   "cell_type": "code",
   "execution_count": 31,
   "metadata": {
    "id": "6cm1z8f9HfEO"
   },
   "outputs": [],
   "source": [
    "model.add(\n",
    "    Dense(\n",
    "        units=512,\n",
    "        activation=\"relu\",\n",
    "        input_shape=(28*28,),\n",
    "        kernel_initializer=\"he_normal\"\n",
    "    )\n",
    ")\n",
    "model.add(\n",
    "    Dense(\n",
    "        units=256,\n",
    "        activation=\"relu\",\n",
    "        kernel_initializer=\"he_normal\"\n",
    "    )\n",
    ")\n",
    "model.add(\n",
    "    Dense(\n",
    "        units=128,\n",
    "        activation=\"relu\",\n",
    "        kernel_initializer=\"he_normal\"\n",
    "    )\n",
    ")\n",
    "model.add(\n",
    "    Dense(\n",
    "        units=64,\n",
    "        activation=\"relu\",\n",
    "        kernel_initializer=\"he_normal\"\n",
    "    )\n",
    ")"
   ]
  },
  {
   "cell_type": "code",
   "execution_count": 32,
   "metadata": {
    "colab": {
     "base_uri": "https://localhost:8080/"
    },
    "id": "twVbBCW-Hrci",
    "outputId": "044049b3-ab3e-4419-d0c8-024659c2f6eb"
   },
   "outputs": [
    {
     "name": "stdout",
     "output_type": "stream",
     "text": [
      "Model: \"sequential\"\n",
      "_________________________________________________________________\n",
      "Layer (type)                 Output Shape              Param #   \n",
      "=================================================================\n",
      "dense (Dense)                (None, 512)               401920    \n",
      "_________________________________________________________________\n",
      "dense_1 (Dense)              (None, 256)               131328    \n",
      "_________________________________________________________________\n",
      "dense_2 (Dense)              (None, 128)               32896     \n",
      "_________________________________________________________________\n",
      "dense_3 (Dense)              (None, 64)                8256      \n",
      "=================================================================\n",
      "Total params: 574,400\n",
      "Trainable params: 574,400\n",
      "Non-trainable params: 0\n",
      "_________________________________________________________________\n"
     ]
    }
   ],
   "source": [
    "model.summary()"
   ]
  },
  {
   "cell_type": "code",
   "execution_count": 33,
   "metadata": {
    "id": "FN1dgNCfH6YG"
   },
   "outputs": [
    {
     "data": {
      "text/plain": [
       "array([0., 0., 0., 0., 0., 0., 0., 0., 1., 0.], dtype=float32)"
      ]
     },
     "execution_count": 33,
     "metadata": {},
     "output_type": "execute_result"
    }
   ],
   "source": [
    "y_train_categorical[300]"
   ]
  },
  {
   "cell_type": "code",
   "execution_count": 34,
   "metadata": {
    "id": "krGz9jkIH90-"
   },
   "outputs": [],
   "source": [
    "model.add(\n",
    "    Dense(\n",
    "        units=10,\n",
    "        activation=\"softmax\"\n",
    "    )\n",
    ")"
   ]
  },
  {
   "cell_type": "code",
   "execution_count": 35,
   "metadata": {
    "colab": {
     "base_uri": "https://localhost:8080/"
    },
    "id": "dHPIubfuIEjH",
    "outputId": "5c19ac91-686e-4d49-8fa8-4c1a7d62bd43"
   },
   "outputs": [
    {
     "name": "stdout",
     "output_type": "stream",
     "text": [
      "Model: \"sequential\"\n",
      "_________________________________________________________________\n",
      "Layer (type)                 Output Shape              Param #   \n",
      "=================================================================\n",
      "dense (Dense)                (None, 512)               401920    \n",
      "_________________________________________________________________\n",
      "dense_1 (Dense)              (None, 256)               131328    \n",
      "_________________________________________________________________\n",
      "dense_2 (Dense)              (None, 128)               32896     \n",
      "_________________________________________________________________\n",
      "dense_3 (Dense)              (None, 64)                8256      \n",
      "_________________________________________________________________\n",
      "dense_4 (Dense)              (None, 10)                650       \n",
      "=================================================================\n",
      "Total params: 575,050\n",
      "Trainable params: 575,050\n",
      "Non-trainable params: 0\n",
      "_________________________________________________________________\n"
     ]
    }
   ],
   "source": [
    "model.summary()"
   ]
  },
  {
   "cell_type": "code",
   "execution_count": 36,
   "metadata": {
    "id": "6RqdYTg_IIXg"
   },
   "outputs": [],
   "source": [
    "from keras.optimizers import Adadelta"
   ]
  },
  {
   "cell_type": "code",
   "execution_count": 37,
   "metadata": {
    "id": "5LJg6Da4IR1i"
   },
   "outputs": [],
   "source": [
    "model.compile(\n",
    "    optimizer=Adadelta(),\n",
    "    loss=\"categorical_crossentropy\",\n",
    "    metrics=['accuracy']\n",
    ")"
   ]
  },
  {
   "cell_type": "code",
   "execution_count": 38,
   "metadata": {
    "colab": {
     "base_uri": "https://localhost:8080/"
    },
    "id": "Y6Se-PUgIri8",
    "outputId": "56ec5f24-8bff-4211-a6bf-9c708b9263d3"
   },
   "outputs": [
    {
     "name": "stdout",
     "output_type": "stream",
     "text": [
      "Epoch 1/50\n",
      "1875/1875 [==============================] - 21s 11ms/step - loss: 105.4994 - accuracy: 0.1501 - val_loss: 33.1917 - val_accuracy: 0.3480\n",
      "Epoch 2/50\n",
      "1875/1875 [==============================] - 19s 10ms/step - loss: 29.9032 - accuracy: 0.3804 - val_loss: 19.3818 - val_accuracy: 0.5028\n",
      "Epoch 3/50\n",
      "1875/1875 [==============================] - 19s 10ms/step - loss: 18.6805 - accuracy: 0.5180 - val_loss: 13.9791 - val_accuracy: 0.5955\n",
      "Epoch 4/50\n",
      "1875/1875 [==============================] - 19s 10ms/step - loss: 13.7542 - accuracy: 0.6015 - val_loss: 11.1683 - val_accuracy: 0.6560\n",
      "Epoch 5/50\n",
      "1875/1875 [==============================] - 19s 10ms/step - loss: 11.1947 - accuracy: 0.6543 - val_loss: 9.4536 - val_accuracy: 0.6935\n",
      "Epoch 6/50\n",
      "1875/1875 [==============================] - 19s 10ms/step - loss: 9.5718 - accuracy: 0.6961 - val_loss: 8.2768 - val_accuracy: 0.7195\n",
      "Epoch 7/50\n",
      "1875/1875 [==============================] - 19s 10ms/step - loss: 8.2065 - accuracy: 0.7218 - val_loss: 7.4110 - val_accuracy: 0.7399\n",
      "Epoch 8/50\n",
      "1875/1875 [==============================] - 21s 11ms/step - loss: 7.4491 - accuracy: 0.7409 - val_loss: 6.7451 - val_accuracy: 0.7574\n",
      "Epoch 9/50\n",
      "1875/1875 [==============================] - 21s 11ms/step - loss: 6.7548 - accuracy: 0.7582 - val_loss: 6.2201 - val_accuracy: 0.7717\n",
      "Epoch 10/50\n",
      "1875/1875 [==============================] - 22s 11ms/step - loss: 6.2974 - accuracy: 0.7715 - val_loss: 5.7965 - val_accuracy: 0.7830\n",
      "Epoch 11/50\n",
      "1875/1875 [==============================] - 20s 11ms/step - loss: 5.7237 - accuracy: 0.7861 - val_loss: 5.4333 - val_accuracy: 0.7915\n",
      "Epoch 12/50\n",
      "1875/1875 [==============================] - 20s 11ms/step - loss: 5.4088 - accuracy: 0.7945 - val_loss: 5.1264 - val_accuracy: 0.8005\n",
      "Epoch 13/50\n",
      "1875/1875 [==============================] - 20s 11ms/step - loss: 5.1647 - accuracy: 0.8025 - val_loss: 4.8616 - val_accuracy: 0.8067\n",
      "Epoch 14/50\n",
      "1875/1875 [==============================] - 23s 12ms/step - loss: 4.9053 - accuracy: 0.8109 - val_loss: 4.6387 - val_accuracy: 0.8132\n",
      "Epoch 15/50\n",
      "1875/1875 [==============================] - 20s 11ms/step - loss: 4.5423 - accuracy: 0.8179 - val_loss: 4.4449 - val_accuracy: 0.8193\n",
      "Epoch 16/50\n",
      "1875/1875 [==============================] - 20s 11ms/step - loss: 4.3075 - accuracy: 0.8267 - val_loss: 4.2619 - val_accuracy: 0.8238\n",
      "Epoch 17/50\n",
      "1875/1875 [==============================] - 23s 12ms/step - loss: 4.2084 - accuracy: 0.8305 - val_loss: 4.1045 - val_accuracy: 0.8276\n",
      "Epoch 18/50\n",
      "1875/1875 [==============================] - 21s 11ms/step - loss: 3.9966 - accuracy: 0.8341 - val_loss: 3.9606 - val_accuracy: 0.8303\n",
      "Epoch 19/50\n",
      "1875/1875 [==============================] - 21s 11ms/step - loss: 3.8688 - accuracy: 0.8391 - val_loss: 3.8293 - val_accuracy: 0.8350\n",
      "Epoch 20/50\n",
      "1875/1875 [==============================] - 21s 11ms/step - loss: 3.6596 - accuracy: 0.8433 - val_loss: 3.7095 - val_accuracy: 0.8393\n",
      "Epoch 21/50\n",
      "1875/1875 [==============================] - 21s 11ms/step - loss: 3.5655 - accuracy: 0.8463 - val_loss: 3.6020 - val_accuracy: 0.8415\n",
      "Epoch 22/50\n",
      "1875/1875 [==============================] - 21s 11ms/step - loss: 3.4042 - accuracy: 0.8508 - val_loss: 3.4996 - val_accuracy: 0.8452\n",
      "Epoch 23/50\n",
      "1875/1875 [==============================] - 21s 11ms/step - loss: 3.3149 - accuracy: 0.8555 - val_loss: 3.4087 - val_accuracy: 0.8476\n",
      "Epoch 24/50\n",
      "1875/1875 [==============================] - 21s 11ms/step - loss: 3.1687 - accuracy: 0.8587 - val_loss: 3.3217 - val_accuracy: 0.8500\n",
      "Epoch 25/50\n",
      "1875/1875 [==============================] - 21s 11ms/step - loss: 2.9937 - accuracy: 0.8633 - val_loss: 3.2451 - val_accuracy: 0.8516\n",
      "Epoch 26/50\n",
      "1875/1875 [==============================] - 21s 11ms/step - loss: 3.0014 - accuracy: 0.8635 - val_loss: 3.1731 - val_accuracy: 0.8549\n",
      "Epoch 27/50\n",
      "1875/1875 [==============================] - 21s 11ms/step - loss: 2.8866 - accuracy: 0.8675 - val_loss: 3.1047 - val_accuracy: 0.8572\n",
      "Epoch 28/50\n",
      "1875/1875 [==============================] - 21s 11ms/step - loss: 2.8796 - accuracy: 0.8685 - val_loss: 3.0423 - val_accuracy: 0.8580\n",
      "Epoch 29/50\n",
      "1875/1875 [==============================] - 21s 11ms/step - loss: 2.7910 - accuracy: 0.8699 - val_loss: 2.9787 - val_accuracy: 0.8589\n",
      "Epoch 30/50\n",
      "1875/1875 [==============================] - 20s 11ms/step - loss: 2.6211 - accuracy: 0.8738 - val_loss: 2.9199 - val_accuracy: 0.8601\n",
      "Epoch 31/50\n",
      "1875/1875 [==============================] - 21s 11ms/step - loss: 2.6083 - accuracy: 0.8739 - val_loss: 2.8675 - val_accuracy: 0.8615\n",
      "Epoch 32/50\n",
      "1875/1875 [==============================] - 21s 11ms/step - loss: 2.5523 - accuracy: 0.8781 - val_loss: 2.8168 - val_accuracy: 0.8637\n",
      "Epoch 33/50\n",
      "1875/1875 [==============================] - 21s 11ms/step - loss: 2.4176 - accuracy: 0.8800 - val_loss: 2.7668 - val_accuracy: 0.8640\n",
      "Epoch 34/50\n",
      "1875/1875 [==============================] - 13s 7ms/step - loss: 2.3873 - accuracy: 0.8816 - val_loss: 2.7197 - val_accuracy: 0.8654\n",
      "Epoch 35/50\n",
      "1875/1875 [==============================] - 13s 7ms/step - loss: 2.3054 - accuracy: 0.8834 - val_loss: 2.6775 - val_accuracy: 0.8683\n",
      "Epoch 36/50\n",
      "1875/1875 [==============================] - 13s 7ms/step - loss: 2.3149 - accuracy: 0.8832 - val_loss: 2.6367 - val_accuracy: 0.8697\n",
      "Epoch 37/50\n",
      "1875/1875 [==============================] - 17s 9ms/step - loss: 2.2348 - accuracy: 0.8851 - val_loss: 2.5967 - val_accuracy: 0.8714\n",
      "Epoch 38/50\n",
      "1875/1875 [==============================] - 22s 12ms/step - loss: 2.1234 - accuracy: 0.8878 - val_loss: 2.5587 - val_accuracy: 0.8728\n",
      "Epoch 39/50\n",
      "1875/1875 [==============================] - 18s 10ms/step - loss: 2.1713 - accuracy: 0.8875 - val_loss: 2.5243 - val_accuracy: 0.8737\n",
      "Epoch 40/50\n",
      "1875/1875 [==============================] - 13s 7ms/step - loss: 2.1162 - accuracy: 0.8909 - val_loss: 2.4889 - val_accuracy: 0.8746\n",
      "Epoch 41/50\n",
      "1875/1875 [==============================] - 13s 7ms/step - loss: 2.0775 - accuracy: 0.8935 - val_loss: 2.4572 - val_accuracy: 0.8762\n",
      "Epoch 42/50\n",
      "1875/1875 [==============================] - 13s 7ms/step - loss: 2.0257 - accuracy: 0.8930 - val_loss: 2.4279 - val_accuracy: 0.8780\n",
      "Epoch 43/50\n",
      "1875/1875 [==============================] - 14s 8ms/step - loss: 1.9805 - accuracy: 0.8964 - val_loss: 2.3953 - val_accuracy: 0.8784\n",
      "Epoch 44/50\n",
      "1875/1875 [==============================] - 22s 12ms/step - loss: 1.9819 - accuracy: 0.8943 - val_loss: 2.3676 - val_accuracy: 0.8801\n",
      "Epoch 45/50\n",
      "1875/1875 [==============================] - 14s 8ms/step - loss: 1.8495 - accuracy: 0.9012 - val_loss: 2.3405 - val_accuracy: 0.8808\n",
      "Epoch 46/50\n",
      "1875/1875 [==============================] - 14s 7ms/step - loss: 1.8149 - accuracy: 0.9003 - val_loss: 2.3160 - val_accuracy: 0.8805\n",
      "Epoch 47/50\n",
      "1875/1875 [==============================] - 11s 6ms/step - loss: 1.8471 - accuracy: 0.9002 - val_loss: 2.2881 - val_accuracy: 0.8828\n",
      "Epoch 48/50\n",
      "1875/1875 [==============================] - 11s 6ms/step - loss: 1.7604 - accuracy: 0.9039 - val_loss: 2.2660 - val_accuracy: 0.8836\n",
      "Epoch 49/50\n",
      "1875/1875 [==============================] - 11s 6ms/step - loss: 1.7105 - accuracy: 0.9039 - val_loss: 2.2459 - val_accuracy: 0.8852\n",
      "Epoch 50/50\n",
      "1875/1875 [==============================] - 11s 6ms/step - loss: 1.7015 - accuracy: 0.9056 - val_loss: 2.2202 - val_accuracy: 0.8861\n"
     ]
    },
    {
     "data": {
      "text/plain": [
       "<tensorflow.python.keras.callbacks.History at 0x7fc3272e53d0>"
      ]
     },
     "execution_count": 38,
     "metadata": {},
     "output_type": "execute_result"
    }
   ],
   "source": [
    "model.fit(x_train_flatten,y_train_categorical,epochs=50,shuffle=True,validation_data=(x_test_flatten,y_test_categorical))"
   ]
  },
  {
   "cell_type": "code",
   "execution_count": 39,
   "metadata": {
    "colab": {
     "base_uri": "https://localhost:8080/"
    },
    "id": "OkZcyq7vMyxc",
    "outputId": "e90e4f9d-90e0-4639-876f-a22b6eb1a236"
   },
   "outputs": [
    {
     "data": {
      "text/plain": [
       "[<matplotlib.lines.Line2D at 0x7fc324860a90>]"
      ]
     },
     "execution_count": 39,
     "metadata": {},
     "output_type": "execute_result"
    },
    {
     "data": {
      "image/png": "[encoded data removed]",
      "text/plain": [
       "<Figure size 432x288 with 1 Axes>"
      ]
     },
     "metadata": {
      "needs_background": "light"
     },
     "output_type": "display_data"
    }
   ],
   "source": [
    "import matplotlib.pyplot as plt\n",
    "plt.plot(model.history.history['loss'])"
   ]
  },
  {
   "cell_type": "code",
   "execution_count": 41,
   "metadata": {
    "id": "o97tDdcNNH8S"
   },
   "outputs": [],
   "source": [
    "accuracy = model.history.history[\"accuracy\"]"
   ]
  },
  {
   "cell_type": "code",
   "execution_count": 42,
   "metadata": {
    "id": "3rHR0R8DNSVL"
   },
   "outputs": [],
   "source": [
    "accuracy = pd.DataFrame(accuracy)"
   ]
  },
  {
   "cell_type": "code",
   "execution_count": 43,
   "metadata": {
    "colab": {
     "base_uri": "https://localhost:8080/",
     "height": 282
    },
    "id": "OsFMe3u9NhLV",
    "outputId": "22b5a96b-3ee7-40c4-f3b0-38e38e97a0a1"
   },
   "outputs": [
    {
     "data": {
      "text/plain": [
       "<AxesSubplot:>"
      ]
     },
     "execution_count": 43,
     "metadata": {},
     "output_type": "execute_result"
    },
    {
     "data": {
      "image/png": "[encoded data removed]",
      "text/plain": [
       "<Figure size 432x288 with 1 Axes>"
      ]
     },
     "metadata": {
      "needs_background": "light"
     },
     "output_type": "display_data"
    }
   ],
   "source": [
    "accuracy.plot()"
   ]
  },
  {
   "cell_type": "code",
   "execution_count": 44,
   "metadata": {
    "id": "-Mch9EOuNkH8"
   },
   "outputs": [],
   "source": [
    "#import keras.backend as k"
   ]
  },
  {
   "cell_type": "code",
   "execution_count": 45,
   "metadata": {
    "id": "ZKFpLF1dU14b"
   },
   "outputs": [],
   "source": [
    "#k.clear_session()"
   ]
  },
  {
   "cell_type": "code",
   "execution_count": 46,
   "metadata": {
    "id": "Elgm26TdU5ah"
   },
   "outputs": [],
   "source": [
    "model.save(\"90_percent_accuracy_model.h5\")"
   ]
  },
  {
   "cell_type": "code",
   "execution_count": 47,
   "metadata": {
    "colab": {
     "base_uri": "https://localhost:8080/"
    },
    "id": "rWbNi_gmWzix",
    "outputId": "da5632fa-06bb-4ebc-8762-24846ddcaa1a"
   },
   "outputs": [
    {
     "data": {
      "text/plain": [
       "(10000, 784)"
      ]
     },
     "execution_count": 47,
     "metadata": {},
     "output_type": "execute_result"
    }
   ],
   "source": [
    "x_test_flatten.shape"
   ]
  },
  {
   "cell_type": "code",
   "execution_count": 49,
   "metadata": {
    "id": "rV82VhkLlwxc"
   },
   "outputs": [],
   "source": [
    "img_test = x_test_flatten[1000]"
   ]
  },
  {
   "cell_type": "code",
   "execution_count": 50,
   "metadata": {
    "colab": {
     "base_uri": "https://localhost:8080/"
    },
    "id": "obzUUF5DrWoK",
    "outputId": "25d1dcea-39e8-40ec-ab7c-cb2f35c03a7d"
   },
   "outputs": [
    {
     "data": {
      "text/plain": [
       "9"
      ]
     },
     "execution_count": 50,
     "metadata": {},
     "output_type": "execute_result"
    }
   ],
   "source": [
    "y_test[1000]"
   ]
  },
  {
   "cell_type": "code",
   "execution_count": 51,
   "metadata": {
    "colab": {
     "base_uri": "https://localhost:8080/"
    },
    "id": "Aq3ktn4umxfT",
    "outputId": "990df46e-d430-43c9-e985-43d1c619bb4f"
   },
   "outputs": [
    {
     "data": {
      "text/plain": [
       "numpy.ndarray"
      ]
     },
     "execution_count": 51,
     "metadata": {},
     "output_type": "execute_result"
    }
   ],
   "source": [
    "type(img_test)"
   ]
  },
  {
   "cell_type": "code",
   "execution_count": 52,
   "metadata": {
    "colab": {
     "base_uri": "https://localhost:8080/"
    },
    "id": "DRUfeysYl4X-",
    "outputId": "2e8bf460-abef-4e2f-aa7d-a13a6d4c72cb"
   },
   "outputs": [
    {
     "data": {
      "text/plain": [
       "(784,)"
      ]
     },
     "execution_count": 52,
     "metadata": {},
     "output_type": "execute_result"
    }
   ],
   "source": [
    "img_test.shape"
   ]
  },
  {
   "cell_type": "code",
   "execution_count": 53,
   "metadata": {
    "id": "gbp0Q4vQmQo4"
   },
   "outputs": [],
   "source": [
    "img_test_final = img_test.reshape(1,784)"
   ]
  },
  {
   "cell_type": "code",
   "execution_count": 54,
   "metadata": {
    "colab": {
     "base_uri": "https://localhost:8080/"
    },
    "id": "zn4BHWZfmQkD",
    "outputId": "13baf959-dcb6-4772-9bbb-0ababe7547a3"
   },
   "outputs": [
    {
     "data": {
      "text/plain": [
       "(1, 784)"
      ]
     },
     "execution_count": 54,
     "metadata": {},
     "output_type": "execute_result"
    }
   ],
   "source": [
    "img_test_final.shape"
   ]
  },
  {
   "cell_type": "code",
   "execution_count": 55,
   "metadata": {
    "colab": {
     "base_uri": "https://localhost:8080/"
    },
    "id": "E7Cu3Jkgl509",
    "outputId": "57f94585-feb0-4cd4-93b0-e853e5550509"
   },
   "outputs": [
    {
     "data": {
      "text/plain": [
       "array([[1.0629008e-32, 3.6644407e-26, 3.0990485e-28, 1.8547307e-06,\n",
       "        4.7076073e-25, 4.9973554e-28, 2.0356269e-27, 2.9293826e-10,\n",
       "        1.9244315e-23, 9.9999809e-01]], dtype=float32)"
      ]
     },
     "execution_count": 55,
     "metadata": {},
     "output_type": "execute_result"
    }
   ],
   "source": [
    "\n",
    "model.predict(img_test_final)"
   ]
  },
  {
   "cell_type": "code",
   "execution_count": null,
   "metadata": {
    "colab": {
     "base_uri": "https://localhost:8080/"
    },
    "id": "XsFvU0sdmI_f",
    "outputId": "a7950051-958e-40d5-ad11-500437c84d06"
   },
   "outputs": [],
   "source": [
    "y_test[15]"
   ]
  },
  {
   "cell_type": "code",
   "execution_count": 56,
   "metadata": {
    "colab": {
     "base_uri": "https://localhost:8080/"
    },
    "id": "jPRxhZlNmpaO",
    "outputId": "91b7caa2-3e2a-4491-8499-25a62f5ea589"
   },
   "outputs": [
    {
     "name": "stdout",
     "output_type": "stream",
     "text": [
      "313/313 [==============================] - 1s 4ms/step - loss: 2.2202 - accuracy: 0.8861\n"
     ]
    },
    {
     "data": {
      "text/plain": [
       "[2.2202160358428955, 0.8860999941825867]"
      ]
     },
     "execution_count": 56,
     "metadata": {},
     "output_type": "execute_result"
    }
   ],
   "source": [
    "model.evaluate(x_test_flatten,y_test_categorical,verbose=1)"
   ]
  },
  {
   "cell_type": "code",
   "execution_count": null,
   "metadata": {
    "id": "8LUGcV7Chl5x"
   },
   "outputs": [],
   "source": []
  }
 ],
 "metadata": {
  "accelerator": "TPU",
  "colab": {
   "collapsed_sections": [],
   "name": "MNIST.ipynb",
   "provenance": []
  },
  "kernelspec": {
   "display_name": "Python 3",
   "language": "python",
   "name": "python3"
  },
  "language_info": {
   "codemirror_mode": {
    "name": "ipython",
    "version": 3
   },
   "file_extension": ".py",
   "mimetype": "text/x-python",
   "name": "python",
   "nbconvert_exporter": "python",
   "pygments_lexer": "ipython3",
   "version": "3.7.10"
  }
 },
 "nbformat": 4,
 "nbformat_minor": 1
}
