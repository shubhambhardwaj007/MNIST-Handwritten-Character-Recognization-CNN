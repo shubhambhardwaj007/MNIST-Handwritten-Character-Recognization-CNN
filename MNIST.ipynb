{
 "cells": [
  {
   "cell_type": "code",
   "execution_count": 1,
   "metadata": {
    "id": "-6RQFv_R8TZv"
   },
   "outputs": [],
   "source": [
    "from keras.datasets import  mnist"
   ]
  },
  {
   "cell_type": "code",
   "execution_count": 2,
   "metadata": {
    "id": "bei54Pr68riA"
   },
   "outputs": [
    {
     "name": "stdout",
     "output_type": "stream",
     "text": [
      "Downloading data from https://storage.googleapis.com/tensorflow/tf-keras-datasets/mnist.npz\n",
      "11493376/11490434 [==============================] - 9s 1us/step\n"
     ]
    }
   ],
   "source": [
    "dataset = mnist.load_data()"
   ]
  },
  {
   "cell_type": "code",
   "execution_count": null,
   "metadata": {
    "colab": {
     "base_uri": "https://localhost:8080/"
    },
    "id": "9bbxQF2G81df",
    "outputId": "235dc4ef-c921-4abe-f2d1-c1f57b8c420d"
   },
   "outputs": [],
   "source": [
    "type(dataset)"
   ]
  },
  {
   "cell_type": "code",
   "execution_count": null,
   "metadata": {
    "colab": {
     "base_uri": "https://localhost:8080/"
    },
    "id": "DhX_wFJ29A3c",
    "outputId": "f705f6f6-22ad-4f5e-bfe6-66a4e1347031"
   },
   "outputs": [],
   "source": [
    "len(dataset)"
   ]
  },
  {
   "cell_type": "code",
   "execution_count": null,
   "metadata": {
    "id": "lt6d-p_X9KTO"
   },
   "outputs": [],
   "source": [
    "train,test = dataset"
   ]
  },
  {
   "cell_type": "code",
   "execution_count": null,
   "metadata": {
    "colab": {
     "base_uri": "https://localhost:8080/"
    },
    "id": "QkAkEcm09Mwc",
    "outputId": "b0945fa7-3c86-4ace-e8d2-85cd98059164"
   },
   "outputs": [],
   "source": [
    "train"
   ]
  },
  {
   "cell_type": "code",
   "execution_count": null,
   "metadata": {
    "id": "y4lrEfPR9XzC"
   },
   "outputs": [],
   "source": [
    "x_train , y_train = train"
   ]
  },
  {
   "cell_type": "code",
   "execution_count": null,
   "metadata": {
    "colab": {
     "base_uri": "https://localhost:8080/"
    },
    "id": "TvSv5XkZ9p4Y",
    "outputId": "f82c29dc-7d11-41ae-86da-e24001057c96"
   },
   "outputs": [],
   "source": [
    "x_train.shape"
   ]
  },
  {
   "cell_type": "code",
   "execution_count": null,
   "metadata": {
    "id": "aBbjNlDN9rfk"
   },
   "outputs": [],
   "source": [
    "x_test , y_test = test"
   ]
  },
  {
   "cell_type": "code",
   "execution_count": null,
   "metadata": {
    "colab": {
     "base_uri": "https://localhost:8080/"
    },
    "id": "67sPNrv6-Rk6",
    "outputId": "6c7a25a4-49db-4d59-c5c9-f2a69c6c7e98"
   },
   "outputs": [],
   "source": [
    "x_test.shape"
   ]
  },
  {
   "cell_type": "code",
   "execution_count": null,
   "metadata": {
    "colab": {
     "base_uri": "https://localhost:8080/"
    },
    "id": "KRYQjmc0-VIQ",
    "outputId": "8d485359-e8b2-4d0d-a4a4-a5dd3fe1775b"
   },
   "outputs": [],
   "source": [
    "len(x_train)"
   ]
  },
  {
   "cell_type": "code",
   "execution_count": null,
   "metadata": {
    "colab": {
     "base_uri": "https://localhost:8080/"
    },
    "id": "V802hUxB-urd",
    "outputId": "dd4be8c4-3a99-47a0-da61-659fe7cc55e4"
   },
   "outputs": [],
   "source": [
    "len(x_test)"
   ]
  },
  {
   "cell_type": "code",
   "execution_count": null,
   "metadata": {
    "id": "VjaMLEUA-2D7"
   },
   "outputs": [],
   "source": [
    "import matplotlib.pyplot as plt\n",
    "import cv2"
   ]
  },
  {
   "cell_type": "code",
   "execution_count": null,
   "metadata": {},
   "outputs": [],
   "source": [
    "cv2.imread(x_train[0])"
   ]
  },
  {
   "cell_type": "code",
   "execution_count": null,
   "metadata": {
    "colab": {
     "base_uri": "https://localhost:8080/"
    },
    "id": "MXRbHY96_EoK",
    "outputId": "2e096856-c879-4d8d-835b-cda314593a09"
   },
   "outputs": [],
   "source": [
    "type(x_train[0])"
   ]
  },
  {
   "cell_type": "code",
   "execution_count": null,
   "metadata": {
    "id": "hVS_ErHX_Mk0"
   },
   "outputs": [],
   "source": [
    "img=x_train[0]"
   ]
  },
  {
   "cell_type": "code",
   "execution_count": null,
   "metadata": {
    "colab": {
     "base_uri": "https://localhost:8080/",
     "height": 282
    },
    "id": "OjfL5kGJ_Rpt",
    "outputId": "6537b1ed-c7a5-41b5-a2eb-b7e321083666"
   },
   "outputs": [],
   "source": [
    "plt.imshow(img,cmap=\"gray\")"
   ]
  },
  {
   "cell_type": "code",
   "execution_count": null,
   "metadata": {
    "colab": {
     "base_uri": "https://localhost:8080/"
    },
    "id": "3TQaYdsw_aWk",
    "outputId": "124db038-6b85-4bb1-bfb7-22de16fd748f"
   },
   "outputs": [],
   "source": [
    "y_train[0]"
   ]
  },
  {
   "cell_type": "code",
   "execution_count": null,
   "metadata": {
    "colab": {
     "base_uri": "https://localhost:8080/",
     "height": 282
    },
    "id": "yWHkvlnV_3kz",
    "outputId": "fbe50e2b-7fab-44b3-83aa-15e3e4cddb9b"
   },
   "outputs": [],
   "source": [
    "plt.imshow(x_train[300])"
   ]
  },
  {
   "cell_type": "code",
   "execution_count": null,
   "metadata": {
    "colab": {
     "base_uri": "https://localhost:8080/"
    },
    "id": "gAEKQTDHANpO",
    "outputId": "49e1e667-6e07-4021-9c7b-5f8fef9f1b9f"
   },
   "outputs": [],
   "source": [
    "y_train[50]"
   ]
  },
  {
   "cell_type": "code",
   "execution_count": null,
   "metadata": {
    "colab": {
     "base_uri": "https://localhost:8080/"
    },
    "id": "q7SLzhX7ASWn",
    "outputId": "e1dd558a-5b72-4b82-b7a5-bffaa366436a"
   },
   "outputs": [],
   "source": [
    "img.shape"
   ]
  },
  {
   "cell_type": "code",
   "execution_count": null,
   "metadata": {
    "colab": {
     "base_uri": "https://localhost:8080/"
    },
    "id": "2WWLDUw3A61c",
    "outputId": "6b195caf-93a0-469d-a2ea-655fe32fde33"
   },
   "outputs": [],
   "source": [
    "type(img)"
   ]
  },
  {
   "cell_type": "code",
   "execution_count": null,
   "metadata": {
    "id": "jAr0-K4aBAKK"
   },
   "outputs": [],
   "source": [
    "img_flatten = img.reshape(28*28)"
   ]
  },
  {
   "cell_type": "code",
   "execution_count": null,
   "metadata": {
    "colab": {
     "base_uri": "https://localhost:8080/"
    },
    "id": "nNftOqq5BIbx",
    "outputId": "55133ba6-c401-46ae-a026-1c60d9fb178e"
   },
   "outputs": [],
   "source": [
    "img_flatten.shape"
   ]
  },
  {
   "cell_type": "code",
   "execution_count": null,
   "metadata": {
    "colab": {
     "base_uri": "https://localhost:8080/"
    },
    "id": "mW7QSSGtBSxA",
    "outputId": "cf9f74f5-71ed-41bc-b2b9-6a4046e58153"
   },
   "outputs": [],
   "source": [
    "x_train.shape"
   ]
  },
  {
   "cell_type": "code",
   "execution_count": null,
   "metadata": {
    "id": "-8d7gN9TCJAX"
   },
   "outputs": [],
   "source": [
    "x_train_flatten = x_train.reshape(-1,28*28)"
   ]
  },
  {
   "cell_type": "code",
   "execution_count": null,
   "metadata": {
    "colab": {
     "base_uri": "https://localhost:8080/"
    },
    "id": "vCJlH2I-Cjvl",
    "outputId": "57119574-9faf-4f22-d386-a4d2a280f88e"
   },
   "outputs": [],
   "source": [
    "x_train_flatten.shape"
   ]
  },
  {
   "cell_type": "code",
   "execution_count": null,
   "metadata": {
    "id": "UNiyfGg3C6Xd"
   },
   "outputs": [],
   "source": [
    "x_test_flatten = x_test.reshape(-1,28*28)"
   ]
  },
  {
   "cell_type": "code",
   "execution_count": null,
   "metadata": {
    "colab": {
     "base_uri": "https://localhost:8080/"
    },
    "id": "ljCVEzeJDL0K",
    "outputId": "71d22046-30d7-4aff-e158-d9cdf02680ee"
   },
   "outputs": [],
   "source": [
    "x_test_flatten.shape"
   ]
  },
  {
   "cell_type": "code",
   "execution_count": null,
   "metadata": {
    "id": "SlxbnvpADPG_"
   },
   "outputs": [],
   "source": [
    "import pandas as pd\n",
    "y_train_categorical = pd.get_dummies(y_train)\n",
    "y_test_categorical = pd.get_dummies(y_test)"
   ]
  },
  {
   "cell_type": "code",
   "execution_count": null,
   "metadata": {
    "colab": {
     "base_uri": "https://localhost:8080/",
     "height": 423
    },
    "id": "aNJhNrkbD-po",
    "outputId": "2bc69838-d6a0-4535-9c0e-4699f81d2941"
   },
   "outputs": [],
   "source": [
    "y_train_categorical"
   ]
  },
  {
   "cell_type": "code",
   "execution_count": null,
   "metadata": {
    "id": "WjYBS3Wwh8Dv"
   },
   "outputs": [],
   "source": [
    "x_train_flatten = x_train_flatten.astype('float32')\n",
    "x_test_flatten = x_test_flatten.astype('float32')"
   ]
  },
  {
   "cell_type": "code",
   "execution_count": null,
   "metadata": {
    "id": "WgOTXzx1EKu1"
   },
   "outputs": [],
   "source": [
    "from keras.models import Sequential"
   ]
  },
  {
   "cell_type": "code",
   "execution_count": null,
   "metadata": {
    "id": "TTDUhsOMGvOq"
   },
   "outputs": [],
   "source": [
    "model = Sequential()"
   ]
  },
  {
   "cell_type": "code",
   "execution_count": null,
   "metadata": {
    "id": "f-DtfkGdGyX1"
   },
   "outputs": [],
   "source": [
    "from keras.layers import Dense"
   ]
  },
  {
   "cell_type": "code",
   "execution_count": null,
   "metadata": {
    "id": "6cm1z8f9HfEO"
   },
   "outputs": [],
   "source": [
    "model.add(\n",
    "    Dense(\n",
    "        units=500,\n",
    "        activation=\"relu\",\n",
    "        input_dim=28*28,\n",
    "        kernel_initializer=\"he_normal\"\n",
    "    )\n",
    ")"
   ]
  },
  {
   "cell_type": "code",
   "execution_count": null,
   "metadata": {
    "colab": {
     "base_uri": "https://localhost:8080/"
    },
    "id": "twVbBCW-Hrci",
    "outputId": "044049b3-ab3e-4419-d0c8-024659c2f6eb"
   },
   "outputs": [],
   "source": [
    "model.summary()"
   ]
  },
  {
   "cell_type": "code",
   "execution_count": null,
   "metadata": {
    "id": "FN1dgNCfH6YG"
   },
   "outputs": [],
   "source": [
    "#model.add(\n",
    " #   Dense(\n",
    "  #      units=125,\n",
    "   #     activation=\"relu\"\n",
    "    #)\n",
    "#)"
   ]
  },
  {
   "cell_type": "code",
   "execution_count": null,
   "metadata": {
    "id": "D2ZKAo5AQDnP"
   },
   "outputs": [],
   "source": [
    "#model.add(\n",
    " #   Dense(\n",
    "  #      units=250,\n",
    "   #     activation=\"relu\"\n",
    "    #)\n",
    "#)"
   ]
  },
  {
   "cell_type": "code",
   "execution_count": null,
   "metadata": {
    "id": "krGz9jkIH90-"
   },
   "outputs": [],
   "source": [
    "model.add(\n",
    "    Dense(\n",
    "        units=10,\n",
    "        activation=\"softmax\"\n",
    "    )\n",
    ")"
   ]
  },
  {
   "cell_type": "code",
   "execution_count": null,
   "metadata": {
    "colab": {
     "base_uri": "https://localhost:8080/"
    },
    "id": "dHPIubfuIEjH",
    "outputId": "5c19ac91-686e-4d49-8fa8-4c1a7d62bd43"
   },
   "outputs": [],
   "source": [
    "model.summary()"
   ]
  },
  {
   "cell_type": "code",
   "execution_count": null,
   "metadata": {
    "id": "6RqdYTg_IIXg"
   },
   "outputs": [],
   "source": [
    "from keras.optimizers import Adadelta"
   ]
  },
  {
   "cell_type": "code",
   "execution_count": null,
   "metadata": {
    "id": "5LJg6Da4IR1i"
   },
   "outputs": [],
   "source": [
    "model.compile(\n",
    "    optimizer=Adadelta(),\n",
    "    loss=\"categorical_crossentropy\",\n",
    "    metrics=['accuracy']\n",
    ")"
   ]
  },
  {
   "cell_type": "code",
   "execution_count": null,
   "metadata": {
    "colab": {
     "base_uri": "https://localhost:8080/"
    },
    "id": "Y6Se-PUgIri8",
    "outputId": "56ec5f24-8bff-4211-a6bf-9c708b9263d3"
   },
   "outputs": [],
   "source": [
    "model.fit(x_train_flatten,y_train_categorical,epochs=50,shuffle=True,validation_data=(x_test_flatten,y_test_categorical))"
   ]
  },
  {
   "cell_type": "code",
   "execution_count": null,
   "metadata": {
    "id": "0JPFDTfBJAUw"
   },
   "outputs": [],
   "source": [
    "loss = model.history.history['loss']"
   ]
  },
  {
   "cell_type": "code",
   "execution_count": null,
   "metadata": {
    "colab": {
     "base_uri": "https://localhost:8080/"
    },
    "id": "OkZcyq7vMyxc",
    "outputId": "e90e4f9d-90e0-4639-876f-a22b6eb1a236"
   },
   "outputs": [],
   "source": [
    "type(loss)"
   ]
  },
  {
   "cell_type": "code",
   "execution_count": null,
   "metadata": {
    "id": "UsmbGwMgM0sH"
   },
   "outputs": [],
   "source": [
    "loss = pd.DataFrame(loss)"
   ]
  },
  {
   "cell_type": "code",
   "execution_count": null,
   "metadata": {
    "colab": {
     "base_uri": "https://localhost:8080/",
     "height": 282
    },
    "id": "RBd0D3XBNFKV",
    "outputId": "f5cdb6df-fdd6-45ac-cc88-6006a4648fd4"
   },
   "outputs": [],
   "source": [
    "loss.plot()"
   ]
  },
  {
   "cell_type": "code",
   "execution_count": null,
   "metadata": {
    "id": "o97tDdcNNH8S"
   },
   "outputs": [],
   "source": [
    "accuracy = model.history.history[\"accuracy\"]"
   ]
  },
  {
   "cell_type": "code",
   "execution_count": null,
   "metadata": {
    "id": "3rHR0R8DNSVL"
   },
   "outputs": [],
   "source": [
    "accuracy = pd.DataFrame(accuracy)"
   ]
  },
  {
   "cell_type": "code",
   "execution_count": null,
   "metadata": {
    "colab": {
     "base_uri": "https://localhost:8080/",
     "height": 282
    },
    "id": "OsFMe3u9NhLV",
    "outputId": "22b5a96b-3ee7-40c4-f3b0-38e38e97a0a1"
   },
   "outputs": [],
   "source": [
    "accuracy.plot()"
   ]
  },
  {
   "cell_type": "code",
   "execution_count": null,
   "metadata": {
    "id": "-Mch9EOuNkH8"
   },
   "outputs": [],
   "source": [
    "#import keras.backend as k"
   ]
  },
  {
   "cell_type": "code",
   "execution_count": null,
   "metadata": {
    "id": "ZKFpLF1dU14b"
   },
   "outputs": [],
   "source": [
    "#k.clear_session()"
   ]
  },
  {
   "cell_type": "code",
   "execution_count": null,
   "metadata": {
    "id": "Elgm26TdU5ah"
   },
   "outputs": [],
   "source": [
    "model.save(\"90_percent_accuracy_model.h5\")"
   ]
  },
  {
   "cell_type": "code",
   "execution_count": null,
   "metadata": {
    "colab": {
     "base_uri": "https://localhost:8080/"
    },
    "id": "rWbNi_gmWzix",
    "outputId": "da5632fa-06bb-4ebc-8762-24846ddcaa1a"
   },
   "outputs": [],
   "source": [
    "x_test_flatten.shape"
   ]
  },
  {
   "cell_type": "code",
   "execution_count": null,
   "metadata": {
    "id": "rV82VhkLlwxc"
   },
   "outputs": [],
   "source": [
    "img_test = x_test_flatten[1000]"
   ]
  },
  {
   "cell_type": "code",
   "execution_count": null,
   "metadata": {
    "colab": {
     "base_uri": "https://localhost:8080/"
    },
    "id": "obzUUF5DrWoK",
    "outputId": "25d1dcea-39e8-40ec-ab7c-cb2f35c03a7d"
   },
   "outputs": [],
   "source": [
    "y_test[1000]"
   ]
  },
  {
   "cell_type": "code",
   "execution_count": null,
   "metadata": {
    "colab": {
     "base_uri": "https://localhost:8080/"
    },
    "id": "Aq3ktn4umxfT",
    "outputId": "990df46e-d430-43c9-e985-43d1c619bb4f"
   },
   "outputs": [],
   "source": [
    "type(img_test)"
   ]
  },
  {
   "cell_type": "code",
   "execution_count": null,
   "metadata": {
    "colab": {
     "base_uri": "https://localhost:8080/"
    },
    "id": "DRUfeysYl4X-",
    "outputId": "2e8bf460-abef-4e2f-aa7d-a13a6d4c72cb"
   },
   "outputs": [],
   "source": [
    "img_test.shape"
   ]
  },
  {
   "cell_type": "code",
   "execution_count": null,
   "metadata": {
    "id": "gbp0Q4vQmQo4"
   },
   "outputs": [],
   "source": [
    "img_test_final = img_test.reshape(1,784)"
   ]
  },
  {
   "cell_type": "code",
   "execution_count": null,
   "metadata": {
    "colab": {
     "base_uri": "https://localhost:8080/"
    },
    "id": "zn4BHWZfmQkD",
    "outputId": "13baf959-dcb6-4772-9bbb-0ababe7547a3"
   },
   "outputs": [],
   "source": [
    "img_test_final.shape"
   ]
  },
  {
   "cell_type": "code",
   "execution_count": null,
   "metadata": {
    "colab": {
     "base_uri": "https://localhost:8080/"
    },
    "id": "E7Cu3Jkgl509",
    "outputId": "57f94585-feb0-4cd4-93b0-e853e5550509"
   },
   "outputs": [],
   "source": [
    "\n",
    "model.predict(img_test_final)"
   ]
  },
  {
   "cell_type": "code",
   "execution_count": null,
   "metadata": {
    "colab": {
     "base_uri": "https://localhost:8080/"
    },
    "id": "XsFvU0sdmI_f",
    "outputId": "a7950051-958e-40d5-ad11-500437c84d06"
   },
   "outputs": [],
   "source": [
    "y_test[15]"
   ]
  },
  {
   "cell_type": "code",
   "execution_count": null,
   "metadata": {
    "colab": {
     "base_uri": "https://localhost:8080/"
    },
    "id": "jPRxhZlNmpaO",
    "outputId": "91b7caa2-3e2a-4491-8499-25a62f5ea589"
   },
   "outputs": [],
   "source": [
    "model.evaluate(x_test_flatten,y_test_categorical,verbose=1)"
   ]
  },
  {
   "cell_type": "code",
   "execution_count": null,
   "metadata": {
    "id": "8LUGcV7Chl5x"
   },
   "outputs": [],
   "source": []
  }
 ],
 "metadata": {
  "accelerator": "TPU",
  "colab": {
   "collapsed_sections": [],
   "name": "MNIST.ipynb",
   "provenance": []
  },
  "kernelspec": {
   "display_name": "Python 3",
   "language": "python",
   "name": "python3"
  },
  "language_info": {
   "codemirror_mode": {
    "name": "ipython",
    "version": 3
   },
   "file_extension": ".py",
   "mimetype": "text/x-python",
   "name": "python",
   "nbconvert_exporter": "python",
   "pygments_lexer": "ipython3",
   "version": "3.7.10"
  }
 },
 "nbformat": 4,
 "nbformat_minor": 1
}
